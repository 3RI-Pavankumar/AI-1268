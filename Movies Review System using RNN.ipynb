{
 "cells": [
  {
   "cell_type": "code",
   "execution_count": 13,
   "id": "a0beb34c-0ff2-485e-97f1-c83990277292",
   "metadata": {},
   "outputs": [],
   "source": [
    "import numpy as np\n",
    "import tensorflow as tf\n",
    "import re\n",
    "import pandas as pd\n",
    "\n",
    "from tensorflow.keras.preprocessing.text import Tokenizer\n",
    "from tensorflow.keras.preprocessing import sequence\n",
    "from tensorflow.keras.models import Sequential\n",
    "from tensorflow.keras.layers import Embedding, SimpleRNN, Dense\n",
    "\n",
    "import warnings\n",
    "warnings.filterwarnings(\"ignore\")"
   ]
  },
  {
   "cell_type": "code",
   "execution_count": 2,
   "id": "6744648f-af75-49b1-a6f0-fe1a5aec60b8",
   "metadata": {},
   "outputs": [],
   "source": [
    "data = {\n",
    "    \"Review\": [\n",
    "        \"Absolutely loved this movie! The story was gripping and the performances were top-notch.\",\n",
    "        \"Terrible movie. Waste of time and money.\",\n",
    "        \"An emotional rollercoaster! The screenplay was beautifully written.\",\n",
    "        \"The plot was predictable and boring. Nothing new to see here.\",\n",
    "        \"One of the best movies I have ever seen! The visuals were stunning.\",\n",
    "        \"I fell asleep halfway through. The movie lacked excitement.\",\n",
    "        \"The acting was superb, and the music score was phenomenal!\",\n",
    "        \"Horrible script and even worse direction.\",\n",
    "        \"A masterpiece! The cinematography was breathtaking.\",\n",
    "        \"Not my cup of tea. Found it quite dull and uninspiring.\",\n",
    "        \"Loved every minute of it. The character development was amazing!\",\n",
    "        \"The dialogue was cringeworthy, and the pacing was off.\",\n",
    "        \"Such a heartwarming story! Highly recommended.\",\n",
    "        \"I regret watching this. The acting was terrible.\",\n",
    "        \"An exhilarating experience from start to finish!\",\n",
    "        \"The jokes felt forced, and the humor fell flat.\",\n",
    "        \"A must-watch! Brilliant execution and storytelling.\",\n",
    "        \"The editing was poor, making it hard to follow.\",\n",
    "        \"The chemistry between the leads was fantastic!\",\n",
    "        \"Nothing special. Just another cliché-filled drama.\",\n",
    "        \"Absolutely mind-blowing! This movie will stay with me forever.\",\n",
    "        \"The CGI was terrible and ruined the experience.\",\n",
    "        \"A thrilling adventure that kept me on the edge of my seat!\",\n",
    "        \"Disappointing. Expected much more based on the trailer.\",\n",
    "        \"Beautifully shot and emotionally powerful.\",\n",
    "        \"Boring from start to finish. Wouldn’t recommend.\",\n",
    "        \"Incredible performances by the entire cast!\",\n",
    "        \"One of the worst movies I’ve seen in years.\",\n",
    "        \"A visual and storytelling masterpiece!\",\n",
    "        \"Overhyped and underwhelming. Didn’t live up to expectations.\",\n",
    "        \"Pure entertainment! Worth every second.\",\n",
    "        \"I just couldn’t get into it. Too slow-paced.\",\n",
    "        \"A heart-touching film that left me in tears!\",\n",
    "        \"Too many plot holes and weak character arcs.\",\n",
    "        \"A must-watch for anyone who loves good cinema!\",\n",
    "        \"Predictable and not engaging at all.\",\n",
    "        \"The soundtrack was amazing and added to the experience!\",\n",
    "        \"The movie dragged on and felt never-ending.\",\n",
    "        \"Stunning visuals and a gripping storyline!\",\n",
    "        \"Mediocre at best. Didn’t leave any impact.\",\n",
    "        \"A compelling story with fantastic performances!\",\n",
    "        \"Not as good as everyone says. Overrated.\",\n",
    "        \"A fantastic blend of action and drama!\",\n",
    "        \"Wouldn’t watch it again. Lacked originality.\",\n",
    "        \"One of the finest films of the decade!\",\n",
    "        \"A dull and lifeless attempt at storytelling.\",\n",
    "        \"An unforgettable cinematic experience!\",\n",
    "        \"Bad acting and a weak script made this unbearable.\",\n",
    "        \"A masterpiece in every sense!\"],\n",
    "    \"Sentiment\": [\n",
    "        \"Positive\", \"Negative\", \"Positive\", \"Negative\", \"Positive\", \"Negative\", \"Positive\", \"Negative\", \"Positive\", \"Negative\",\n",
    "        \"Positive\", \"Negative\", \"Positive\", \"Negative\", \"Positive\", \"Negative\", \"Positive\", \"Negative\", \"Positive\", \"Negative\",\n",
    "        \"Positive\", \"Negative\", \"Positive\", \"Negative\", \"Positive\", \"Negative\", \"Positive\", \"Negative\", \"Positive\", \"Negative\",\n",
    "        \"Positive\", \"Negative\", \"Positive\", \"Negative\", \"Positive\", \"Negative\", \"Positive\", \"Negative\", \"Positive\", \"Negative\",\n",
    "        \"Positive\", \"Negative\", \"Positive\", \"Negative\", \"Positive\", \"Negative\", \"Positive\", \"Negative\", \"Positive\"\n",
    "    ]\n",
    "}"
   ]
  },
  {
   "cell_type": "code",
   "execution_count": 7,
   "id": "12f59ab6-e3ae-4736-bd66-c9568caf4170",
   "metadata": {},
   "outputs": [],
   "source": [
    "pattern = \"\\d*\""
   ]
  },
  {
   "cell_type": "code",
   "execution_count": 6,
   "id": "7cdf4228-4652-434e-92f3-dd43d5bb139f",
   "metadata": {},
   "outputs": [],
   "source": [
    "dummy = \"\"\"1   data = {\n",
    "2    \"Review\": [ \"\n",
    "\"\"\"\n"
   ]
  },
  {
   "cell_type": "code",
   "execution_count": 10,
   "id": "05150ddf-8477-4011-9644-72346ad27634",
   "metadata": {},
   "outputs": [],
   "source": [
    "clean = re.sub(pattern, \"\", dummy)"
   ]
  },
  {
   "cell_type": "code",
   "execution_count": 11,
   "id": "02509c46-a7b2-4180-af60-5bcec852bf4c",
   "metadata": {},
   "outputs": [
    {
     "name": "stdout",
     "output_type": "stream",
     "text": [
      "   data = {\n",
      "    \"Review\": [ \"\n",
      "\n"
     ]
    }
   ],
   "source": [
    "print(clean)"
   ]
  },
  {
   "cell_type": "code",
   "execution_count": 14,
   "id": "8231e778-254a-41cb-918c-335ddbbdc904",
   "metadata": {},
   "outputs": [],
   "source": [
    "df = pd.DataFrame(data)"
   ]
  },
  {
   "cell_type": "code",
   "execution_count": 15,
   "id": "72187eec-b26f-4c96-8bd7-d47e147c7ef0",
   "metadata": {
    "scrolled": true
   },
   "outputs": [
    {
     "data": {
      "text/html": [
       "<div>\n",
       "<style scoped>\n",
       "    .dataframe tbody tr th:only-of-type {\n",
       "        vertical-align: middle;\n",
       "    }\n",
       "\n",
       "    .dataframe tbody tr th {\n",
       "        vertical-align: top;\n",
       "    }\n",
       "\n",
       "    .dataframe thead th {\n",
       "        text-align: right;\n",
       "    }\n",
       "</style>\n",
       "<table border=\"1\" class=\"dataframe\">\n",
       "  <thead>\n",
       "    <tr style=\"text-align: right;\">\n",
       "      <th></th>\n",
       "      <th>Review</th>\n",
       "      <th>Sentiment</th>\n",
       "    </tr>\n",
       "  </thead>\n",
       "  <tbody>\n",
       "    <tr>\n",
       "      <th>0</th>\n",
       "      <td>Absolutely loved this movie! The story was gri...</td>\n",
       "      <td>Positive</td>\n",
       "    </tr>\n",
       "    <tr>\n",
       "      <th>1</th>\n",
       "      <td>Terrible movie. Waste of time and money.</td>\n",
       "      <td>Negative</td>\n",
       "    </tr>\n",
       "    <tr>\n",
       "      <th>2</th>\n",
       "      <td>An emotional rollercoaster! The screenplay was...</td>\n",
       "      <td>Positive</td>\n",
       "    </tr>\n",
       "    <tr>\n",
       "      <th>3</th>\n",
       "      <td>The plot was predictable and boring. Nothing n...</td>\n",
       "      <td>Negative</td>\n",
       "    </tr>\n",
       "    <tr>\n",
       "      <th>4</th>\n",
       "      <td>One of the best movies I have ever seen! The v...</td>\n",
       "      <td>Positive</td>\n",
       "    </tr>\n",
       "  </tbody>\n",
       "</table>\n",
       "</div>"
      ],
      "text/plain": [
       "                                              Review Sentiment\n",
       "0  Absolutely loved this movie! The story was gri...  Positive\n",
       "1           Terrible movie. Waste of time and money.  Negative\n",
       "2  An emotional rollercoaster! The screenplay was...  Positive\n",
       "3  The plot was predictable and boring. Nothing n...  Negative\n",
       "4  One of the best movies I have ever seen! The v...  Positive"
      ]
     },
     "execution_count": 15,
     "metadata": {},
     "output_type": "execute_result"
    }
   ],
   "source": [
    "df.head()"
   ]
  },
  {
   "cell_type": "code",
   "execution_count": 20,
   "id": "3f51899e-a558-4c5a-9e7d-ad6d21362b05",
   "metadata": {},
   "outputs": [],
   "source": [
    "reviews = df[\"Review\"].tolist()"
   ]
  },
  {
   "cell_type": "code",
   "execution_count": 21,
   "id": "1a697b76-0d03-4aea-80d0-4e6b2e1794d7",
   "metadata": {
    "scrolled": true
   },
   "outputs": [
    {
     "data": {
      "text/plain": [
       "['Absolutely loved this movie! The story was gripping and the performances were top-notch.',\n",
       " 'Terrible movie. Waste of time and money.',\n",
       " 'An emotional rollercoaster! The screenplay was beautifully written.',\n",
       " 'The plot was predictable and boring. Nothing new to see here.',\n",
       " 'One of the best movies I have ever seen! The visuals were stunning.',\n",
       " 'I fell asleep halfway through. The movie lacked excitement.',\n",
       " 'The acting was superb, and the music score was phenomenal!',\n",
       " 'Horrible script and even worse direction.',\n",
       " 'A masterpiece! The cinematography was breathtaking.',\n",
       " 'Not my cup of tea. Found it quite dull and uninspiring.',\n",
       " 'Loved every minute of it. The character development was amazing!',\n",
       " 'The dialogue was cringeworthy, and the pacing was off.',\n",
       " 'Such a heartwarming story! Highly recommended.',\n",
       " 'I regret watching this. The acting was terrible.',\n",
       " 'An exhilarating experience from start to finish!',\n",
       " 'The jokes felt forced, and the humor fell flat.',\n",
       " 'A must-watch! Brilliant execution and storytelling.',\n",
       " 'The editing was poor, making it hard to follow.',\n",
       " 'The chemistry between the leads was fantastic!',\n",
       " 'Nothing special. Just another cliché-filled drama.',\n",
       " 'Absolutely mind-blowing! This movie will stay with me forever.',\n",
       " 'The CGI was terrible and ruined the experience.',\n",
       " 'A thrilling adventure that kept me on the edge of my seat!',\n",
       " 'Disappointing. Expected much more based on the trailer.',\n",
       " 'Beautifully shot and emotionally powerful.',\n",
       " 'Boring from start to finish. Wouldn’t recommend.',\n",
       " 'Incredible performances by the entire cast!',\n",
       " 'One of the worst movies I’ve seen in years.',\n",
       " 'A visual and storytelling masterpiece!',\n",
       " 'Overhyped and underwhelming. Didn’t live up to expectations.',\n",
       " 'Pure entertainment! Worth every second.',\n",
       " 'I just couldn’t get into it. Too slow-paced.',\n",
       " 'A heart-touching film that left me in tears!',\n",
       " 'Too many plot holes and weak character arcs.',\n",
       " 'A must-watch for anyone who loves good cinema!',\n",
       " 'Predictable and not engaging at all.',\n",
       " 'The soundtrack was amazing and added to the experience!',\n",
       " 'The movie dragged on and felt never-ending.',\n",
       " 'Stunning visuals and a gripping storyline!',\n",
       " 'Mediocre at best. Didn’t leave any impact.',\n",
       " 'A compelling story with fantastic performances!',\n",
       " 'Not as good as everyone says. Overrated.',\n",
       " 'A fantastic blend of action and drama!',\n",
       " 'Wouldn’t watch it again. Lacked originality.',\n",
       " 'One of the finest films of the decade!',\n",
       " 'A dull and lifeless attempt at storytelling.',\n",
       " 'An unforgettable cinematic experience!',\n",
       " 'Bad acting and a weak script made this unbearable.',\n",
       " 'A masterpiece in every sense!']"
      ]
     },
     "execution_count": 21,
     "metadata": {},
     "output_type": "execute_result"
    }
   ],
   "source": [
    "reviews"
   ]
  },
  {
   "cell_type": "code",
   "execution_count": 22,
   "id": "5d0251ca-d4aa-46cb-b56f-794fb612e495",
   "metadata": {},
   "outputs": [],
   "source": [
    "sentiment = df[\"Sentiment\"].tolist()"
   ]
  },
  {
   "cell_type": "code",
   "execution_count": 23,
   "id": "13e6d3bb-a762-4539-90f5-cdbb5e459dde",
   "metadata": {
    "scrolled": true
   },
   "outputs": [
    {
     "data": {
      "text/plain": [
       "['Positive',\n",
       " 'Negative',\n",
       " 'Positive',\n",
       " 'Negative',\n",
       " 'Positive',\n",
       " 'Negative',\n",
       " 'Positive',\n",
       " 'Negative',\n",
       " 'Positive',\n",
       " 'Negative',\n",
       " 'Positive',\n",
       " 'Negative',\n",
       " 'Positive',\n",
       " 'Negative',\n",
       " 'Positive',\n",
       " 'Negative',\n",
       " 'Positive',\n",
       " 'Negative',\n",
       " 'Positive',\n",
       " 'Negative',\n",
       " 'Positive',\n",
       " 'Negative',\n",
       " 'Positive',\n",
       " 'Negative',\n",
       " 'Positive',\n",
       " 'Negative',\n",
       " 'Positive',\n",
       " 'Negative',\n",
       " 'Positive',\n",
       " 'Negative',\n",
       " 'Positive',\n",
       " 'Negative',\n",
       " 'Positive',\n",
       " 'Negative',\n",
       " 'Positive',\n",
       " 'Negative',\n",
       " 'Positive',\n",
       " 'Negative',\n",
       " 'Positive',\n",
       " 'Negative',\n",
       " 'Positive',\n",
       " 'Negative',\n",
       " 'Positive',\n",
       " 'Negative',\n",
       " 'Positive',\n",
       " 'Negative',\n",
       " 'Positive',\n",
       " 'Negative',\n",
       " 'Positive']"
      ]
     },
     "execution_count": 23,
     "metadata": {},
     "output_type": "execute_result"
    }
   ],
   "source": [
    "sentiment"
   ]
  },
  {
   "cell_type": "code",
   "execution_count": 24,
   "id": "b477a187-57a3-457b-b8a2-d273ef7da8e8",
   "metadata": {},
   "outputs": [],
   "source": [
    "tokenize = Tokenizer()"
   ]
  },
  {
   "cell_type": "code",
   "execution_count": 27,
   "id": "70b8c983-2c96-46c6-a7c8-2079336b7ddd",
   "metadata": {},
   "outputs": [],
   "source": [
    "tokenize.fit_on_texts(reviews)"
   ]
  },
  {
   "cell_type": "code",
   "execution_count": 28,
   "id": "ffc128fc-e9ed-4af1-949c-ddeaf1295e9f",
   "metadata": {},
   "outputs": [],
   "source": [
    "seq = tokenize.texts_to_sequences(reviews)"
   ]
  },
  {
   "cell_type": "code",
   "execution_count": 29,
   "id": "358e31cc-c77d-4b38-abb7-c7b10798a823",
   "metadata": {
    "scrolled": true
   },
   "outputs": [
    {
     "data": {
      "text/plain": [
       "[[28, 29, 9, 7, 1, 12, 3, 30, 2, 1, 13, 31, 64, 65],\n",
       " [14, 7, 66, 5, 67, 2, 68],\n",
       " [15, 69, 70, 1, 71, 3, 32, 72],\n",
       " [1, 33, 3, 34, 2, 35, 36, 73, 6, 74, 75],\n",
       " [16, 5, 1, 37, 38, 10, 76, 77, 39, 1, 40, 31, 41],\n",
       " [10, 42, 78, 79, 80, 1, 7, 43, 81],\n",
       " [1, 17, 3, 82, 2, 1, 83, 84, 3, 85],\n",
       " [86, 44, 2, 87, 88, 89],\n",
       " [4, 18, 1, 90, 3, 91],\n",
       " [19, 45, 92, 5, 93, 94, 8, 95, 46, 2, 96],\n",
       " [29, 20, 97, 5, 8, 1, 47, 98, 3, 48],\n",
       " [1, 99, 3, 100, 2, 1, 101, 3, 102],\n",
       " [103, 4, 104, 12, 105, 106],\n",
       " [10, 107, 108, 9, 1, 17, 3, 14],\n",
       " [15, 109, 11, 49, 50, 6, 51],\n",
       " [1, 110, 52, 111, 2, 1, 112, 42, 113],\n",
       " [4, 53, 21, 114, 115, 2, 22],\n",
       " [1, 116, 3, 117, 118, 8, 119, 6, 120],\n",
       " [1, 121, 122, 1, 123, 3, 23],\n",
       " [36, 124, 54, 125, 126, 127, 55],\n",
       " [28, 128, 129, 9, 7, 130, 131, 56, 24, 132],\n",
       " [1, 133, 3, 14, 2, 134, 1, 11],\n",
       " [4, 135, 136, 57, 137, 24, 25, 1, 138, 5, 45, 139],\n",
       " [140, 141, 142, 143, 144, 25, 1, 145],\n",
       " [32, 146, 2, 147, 148],\n",
       " [35, 49, 50, 6, 51, 58, 149],\n",
       " [150, 13, 151, 1, 152, 153],\n",
       " [16, 5, 1, 154, 38, 155, 39, 26, 156],\n",
       " [4, 157, 2, 22, 18],\n",
       " [158, 2, 159, 59, 160, 161, 6, 162],\n",
       " [163, 164, 165, 20, 166],\n",
       " [10, 54, 167, 168, 169, 8, 60, 170, 171],\n",
       " [4, 172, 173, 174, 57, 175, 24, 26, 176],\n",
       " [60, 177, 33, 178, 2, 61, 47, 179],\n",
       " [4, 53, 21, 180, 181, 182, 183, 62, 184],\n",
       " [34, 2, 19, 185, 27, 186],\n",
       " [1, 187, 3, 48, 2, 188, 6, 1, 11],\n",
       " [1, 7, 189, 25, 2, 52, 190, 191],\n",
       " [41, 40, 2, 4, 30, 192],\n",
       " [193, 27, 37, 59, 194, 195, 196],\n",
       " [4, 197, 12, 56, 23, 13],\n",
       " [19, 63, 62, 63, 198, 199, 200],\n",
       " [4, 23, 201, 5, 202, 2, 55],\n",
       " [58, 21, 8, 203, 43, 204],\n",
       " [16, 5, 1, 205, 206, 5, 1, 207],\n",
       " [4, 46, 2, 208, 209, 27, 22],\n",
       " [15, 210, 211, 11],\n",
       " [212, 17, 2, 4, 61, 44, 213, 9, 214],\n",
       " [4, 18, 26, 20, 215]]"
      ]
     },
     "execution_count": 29,
     "metadata": {},
     "output_type": "execute_result"
    }
   ],
   "source": [
    "seq"
   ]
  },
  {
   "cell_type": "code",
   "execution_count": 30,
   "id": "bf0be7c6-741b-43a2-827a-2d33f7033148",
   "metadata": {},
   "outputs": [],
   "source": [
    "vocab_size = len(tokenize.word_index)+1"
   ]
  },
  {
   "cell_type": "code",
   "execution_count": 31,
   "id": "5755c6e2-b6ff-4cac-92af-71a9541d668c",
   "metadata": {},
   "outputs": [
    {
     "data": {
      "text/plain": [
       "216"
      ]
     },
     "execution_count": 31,
     "metadata": {},
     "output_type": "execute_result"
    }
   ],
   "source": [
    "vocab_size"
   ]
  },
  {
   "cell_type": "code",
   "execution_count": 32,
   "id": "a1d128e4-3eb0-48b5-a2df-3e1578ceda07",
   "metadata": {},
   "outputs": [
    {
     "data": {
      "text/plain": [
       "{'the': 1,\n",
       " 'and': 2,\n",
       " 'was': 3,\n",
       " 'a': 4,\n",
       " 'of': 5,\n",
       " 'to': 6,\n",
       " 'movie': 7,\n",
       " 'it': 8,\n",
       " 'this': 9,\n",
       " 'i': 10,\n",
       " 'experience': 11,\n",
       " 'story': 12,\n",
       " 'performances': 13,\n",
       " 'terrible': 14,\n",
       " 'an': 15,\n",
       " 'one': 16,\n",
       " 'acting': 17,\n",
       " 'masterpiece': 18,\n",
       " 'not': 19,\n",
       " 'every': 20,\n",
       " 'watch': 21,\n",
       " 'storytelling': 22,\n",
       " 'fantastic': 23,\n",
       " 'me': 24,\n",
       " 'on': 25,\n",
       " 'in': 26,\n",
       " 'at': 27,\n",
       " 'absolutely': 28,\n",
       " 'loved': 29,\n",
       " 'gripping': 30,\n",
       " 'were': 31,\n",
       " 'beautifully': 32,\n",
       " 'plot': 33,\n",
       " 'predictable': 34,\n",
       " 'boring': 35,\n",
       " 'nothing': 36,\n",
       " 'best': 37,\n",
       " 'movies': 38,\n",
       " 'seen': 39,\n",
       " 'visuals': 40,\n",
       " 'stunning': 41,\n",
       " 'fell': 42,\n",
       " 'lacked': 43,\n",
       " 'script': 44,\n",
       " 'my': 45,\n",
       " 'dull': 46,\n",
       " 'character': 47,\n",
       " 'amazing': 48,\n",
       " 'from': 49,\n",
       " 'start': 50,\n",
       " 'finish': 51,\n",
       " 'felt': 52,\n",
       " 'must': 53,\n",
       " 'just': 54,\n",
       " 'drama': 55,\n",
       " 'with': 56,\n",
       " 'that': 57,\n",
       " 'wouldn’t': 58,\n",
       " 'didn’t': 59,\n",
       " 'too': 60,\n",
       " 'weak': 61,\n",
       " 'good': 62,\n",
       " 'as': 63,\n",
       " 'top': 64,\n",
       " 'notch': 65,\n",
       " 'waste': 66,\n",
       " 'time': 67,\n",
       " 'money': 68,\n",
       " 'emotional': 69,\n",
       " 'rollercoaster': 70,\n",
       " 'screenplay': 71,\n",
       " 'written': 72,\n",
       " 'new': 73,\n",
       " 'see': 74,\n",
       " 'here': 75,\n",
       " 'have': 76,\n",
       " 'ever': 77,\n",
       " 'asleep': 78,\n",
       " 'halfway': 79,\n",
       " 'through': 80,\n",
       " 'excitement': 81,\n",
       " 'superb': 82,\n",
       " 'music': 83,\n",
       " 'score': 84,\n",
       " 'phenomenal': 85,\n",
       " 'horrible': 86,\n",
       " 'even': 87,\n",
       " 'worse': 88,\n",
       " 'direction': 89,\n",
       " 'cinematography': 90,\n",
       " 'breathtaking': 91,\n",
       " 'cup': 92,\n",
       " 'tea': 93,\n",
       " 'found': 94,\n",
       " 'quite': 95,\n",
       " 'uninspiring': 96,\n",
       " 'minute': 97,\n",
       " 'development': 98,\n",
       " 'dialogue': 99,\n",
       " 'cringeworthy': 100,\n",
       " 'pacing': 101,\n",
       " 'off': 102,\n",
       " 'such': 103,\n",
       " 'heartwarming': 104,\n",
       " 'highly': 105,\n",
       " 'recommended': 106,\n",
       " 'regret': 107,\n",
       " 'watching': 108,\n",
       " 'exhilarating': 109,\n",
       " 'jokes': 110,\n",
       " 'forced': 111,\n",
       " 'humor': 112,\n",
       " 'flat': 113,\n",
       " 'brilliant': 114,\n",
       " 'execution': 115,\n",
       " 'editing': 116,\n",
       " 'poor': 117,\n",
       " 'making': 118,\n",
       " 'hard': 119,\n",
       " 'follow': 120,\n",
       " 'chemistry': 121,\n",
       " 'between': 122,\n",
       " 'leads': 123,\n",
       " 'special': 124,\n",
       " 'another': 125,\n",
       " 'cliché': 126,\n",
       " 'filled': 127,\n",
       " 'mind': 128,\n",
       " 'blowing': 129,\n",
       " 'will': 130,\n",
       " 'stay': 131,\n",
       " 'forever': 132,\n",
       " 'cgi': 133,\n",
       " 'ruined': 134,\n",
       " 'thrilling': 135,\n",
       " 'adventure': 136,\n",
       " 'kept': 137,\n",
       " 'edge': 138,\n",
       " 'seat': 139,\n",
       " 'disappointing': 140,\n",
       " 'expected': 141,\n",
       " 'much': 142,\n",
       " 'more': 143,\n",
       " 'based': 144,\n",
       " 'trailer': 145,\n",
       " 'shot': 146,\n",
       " 'emotionally': 147,\n",
       " 'powerful': 148,\n",
       " 'recommend': 149,\n",
       " 'incredible': 150,\n",
       " 'by': 151,\n",
       " 'entire': 152,\n",
       " 'cast': 153,\n",
       " 'worst': 154,\n",
       " 'i’ve': 155,\n",
       " 'years': 156,\n",
       " 'visual': 157,\n",
       " 'overhyped': 158,\n",
       " 'underwhelming': 159,\n",
       " 'live': 160,\n",
       " 'up': 161,\n",
       " 'expectations': 162,\n",
       " 'pure': 163,\n",
       " 'entertainment': 164,\n",
       " 'worth': 165,\n",
       " 'second': 166,\n",
       " 'couldn’t': 167,\n",
       " 'get': 168,\n",
       " 'into': 169,\n",
       " 'slow': 170,\n",
       " 'paced': 171,\n",
       " 'heart': 172,\n",
       " 'touching': 173,\n",
       " 'film': 174,\n",
       " 'left': 175,\n",
       " 'tears': 176,\n",
       " 'many': 177,\n",
       " 'holes': 178,\n",
       " 'arcs': 179,\n",
       " 'for': 180,\n",
       " 'anyone': 181,\n",
       " 'who': 182,\n",
       " 'loves': 183,\n",
       " 'cinema': 184,\n",
       " 'engaging': 185,\n",
       " 'all': 186,\n",
       " 'soundtrack': 187,\n",
       " 'added': 188,\n",
       " 'dragged': 189,\n",
       " 'never': 190,\n",
       " 'ending': 191,\n",
       " 'storyline': 192,\n",
       " 'mediocre': 193,\n",
       " 'leave': 194,\n",
       " 'any': 195,\n",
       " 'impact': 196,\n",
       " 'compelling': 197,\n",
       " 'everyone': 198,\n",
       " 'says': 199,\n",
       " 'overrated': 200,\n",
       " 'blend': 201,\n",
       " 'action': 202,\n",
       " 'again': 203,\n",
       " 'originality': 204,\n",
       " 'finest': 205,\n",
       " 'films': 206,\n",
       " 'decade': 207,\n",
       " 'lifeless': 208,\n",
       " 'attempt': 209,\n",
       " 'unforgettable': 210,\n",
       " 'cinematic': 211,\n",
       " 'bad': 212,\n",
       " 'made': 213,\n",
       " 'unbearable': 214,\n",
       " 'sense': 215}"
      ]
     },
     "execution_count": 32,
     "metadata": {},
     "output_type": "execute_result"
    }
   ],
   "source": [
    "tokenize.word_index"
   ]
  },
  {
   "cell_type": "code",
   "execution_count": 33,
   "id": "b71b28c4-bd5c-4e6d-adb5-138551a2f479",
   "metadata": {},
   "outputs": [],
   "source": [
    "max_length = max([len(s) for s in seq])"
   ]
  },
  {
   "cell_type": "code",
   "execution_count": 35,
   "id": "fedc117d-88c3-44a5-8364-34257d0f1de6",
   "metadata": {},
   "outputs": [
    {
     "data": {
      "text/plain": [
       "14"
      ]
     },
     "execution_count": 35,
     "metadata": {},
     "output_type": "execute_result"
    }
   ],
   "source": [
    "max_length"
   ]
  },
  {
   "cell_type": "code",
   "execution_count": 36,
   "id": "fd561d52-3c0e-4f09-87f5-ab42e96ee3fb",
   "metadata": {},
   "outputs": [],
   "source": [
    "padded_seq = sequence.pad_sequences(seq, maxlen=max_length, padding=\"post\")"
   ]
  },
  {
   "cell_type": "code",
   "execution_count": 37,
   "id": "e5dd5943-778d-4fc0-8198-7ada7030957f",
   "metadata": {},
   "outputs": [
    {
     "data": {
      "text/plain": [
       "array([[ 28,  29,   9,   7,   1,  12,   3,  30,   2,   1,  13,  31,  64,\n",
       "         65],\n",
       "       [ 14,   7,  66,   5,  67,   2,  68,   0,   0,   0,   0,   0,   0,\n",
       "          0],\n",
       "       [ 15,  69,  70,   1,  71,   3,  32,  72,   0,   0,   0,   0,   0,\n",
       "          0],\n",
       "       [  1,  33,   3,  34,   2,  35,  36,  73,   6,  74,  75,   0,   0,\n",
       "          0],\n",
       "       [ 16,   5,   1,  37,  38,  10,  76,  77,  39,   1,  40,  31,  41,\n",
       "          0],\n",
       "       [ 10,  42,  78,  79,  80,   1,   7,  43,  81,   0,   0,   0,   0,\n",
       "          0],\n",
       "       [  1,  17,   3,  82,   2,   1,  83,  84,   3,  85,   0,   0,   0,\n",
       "          0],\n",
       "       [ 86,  44,   2,  87,  88,  89,   0,   0,   0,   0,   0,   0,   0,\n",
       "          0],\n",
       "       [  4,  18,   1,  90,   3,  91,   0,   0,   0,   0,   0,   0,   0,\n",
       "          0],\n",
       "       [ 19,  45,  92,   5,  93,  94,   8,  95,  46,   2,  96,   0,   0,\n",
       "          0],\n",
       "       [ 29,  20,  97,   5,   8,   1,  47,  98,   3,  48,   0,   0,   0,\n",
       "          0],\n",
       "       [  1,  99,   3, 100,   2,   1, 101,   3, 102,   0,   0,   0,   0,\n",
       "          0],\n",
       "       [103,   4, 104,  12, 105, 106,   0,   0,   0,   0,   0,   0,   0,\n",
       "          0],\n",
       "       [ 10, 107, 108,   9,   1,  17,   3,  14,   0,   0,   0,   0,   0,\n",
       "          0],\n",
       "       [ 15, 109,  11,  49,  50,   6,  51,   0,   0,   0,   0,   0,   0,\n",
       "          0],\n",
       "       [  1, 110,  52, 111,   2,   1, 112,  42, 113,   0,   0,   0,   0,\n",
       "          0],\n",
       "       [  4,  53,  21, 114, 115,   2,  22,   0,   0,   0,   0,   0,   0,\n",
       "          0],\n",
       "       [  1, 116,   3, 117, 118,   8, 119,   6, 120,   0,   0,   0,   0,\n",
       "          0],\n",
       "       [  1, 121, 122,   1, 123,   3,  23,   0,   0,   0,   0,   0,   0,\n",
       "          0],\n",
       "       [ 36, 124,  54, 125, 126, 127,  55,   0,   0,   0,   0,   0,   0,\n",
       "          0],\n",
       "       [ 28, 128, 129,   9,   7, 130, 131,  56,  24, 132,   0,   0,   0,\n",
       "          0],\n",
       "       [  1, 133,   3,  14,   2, 134,   1,  11,   0,   0,   0,   0,   0,\n",
       "          0],\n",
       "       [  4, 135, 136,  57, 137,  24,  25,   1, 138,   5,  45, 139,   0,\n",
       "          0],\n",
       "       [140, 141, 142, 143, 144,  25,   1, 145,   0,   0,   0,   0,   0,\n",
       "          0],\n",
       "       [ 32, 146,   2, 147, 148,   0,   0,   0,   0,   0,   0,   0,   0,\n",
       "          0],\n",
       "       [ 35,  49,  50,   6,  51,  58, 149,   0,   0,   0,   0,   0,   0,\n",
       "          0],\n",
       "       [150,  13, 151,   1, 152, 153,   0,   0,   0,   0,   0,   0,   0,\n",
       "          0],\n",
       "       [ 16,   5,   1, 154,  38, 155,  39,  26, 156,   0,   0,   0,   0,\n",
       "          0],\n",
       "       [  4, 157,   2,  22,  18,   0,   0,   0,   0,   0,   0,   0,   0,\n",
       "          0],\n",
       "       [158,   2, 159,  59, 160, 161,   6, 162,   0,   0,   0,   0,   0,\n",
       "          0],\n",
       "       [163, 164, 165,  20, 166,   0,   0,   0,   0,   0,   0,   0,   0,\n",
       "          0],\n",
       "       [ 10,  54, 167, 168, 169,   8,  60, 170, 171,   0,   0,   0,   0,\n",
       "          0],\n",
       "       [  4, 172, 173, 174,  57, 175,  24,  26, 176,   0,   0,   0,   0,\n",
       "          0],\n",
       "       [ 60, 177,  33, 178,   2,  61,  47, 179,   0,   0,   0,   0,   0,\n",
       "          0],\n",
       "       [  4,  53,  21, 180, 181, 182, 183,  62, 184,   0,   0,   0,   0,\n",
       "          0],\n",
       "       [ 34,   2,  19, 185,  27, 186,   0,   0,   0,   0,   0,   0,   0,\n",
       "          0],\n",
       "       [  1, 187,   3,  48,   2, 188,   6,   1,  11,   0,   0,   0,   0,\n",
       "          0],\n",
       "       [  1,   7, 189,  25,   2,  52, 190, 191,   0,   0,   0,   0,   0,\n",
       "          0],\n",
       "       [ 41,  40,   2,   4,  30, 192,   0,   0,   0,   0,   0,   0,   0,\n",
       "          0],\n",
       "       [193,  27,  37,  59, 194, 195, 196,   0,   0,   0,   0,   0,   0,\n",
       "          0],\n",
       "       [  4, 197,  12,  56,  23,  13,   0,   0,   0,   0,   0,   0,   0,\n",
       "          0],\n",
       "       [ 19,  63,  62,  63, 198, 199, 200,   0,   0,   0,   0,   0,   0,\n",
       "          0],\n",
       "       [  4,  23, 201,   5, 202,   2,  55,   0,   0,   0,   0,   0,   0,\n",
       "          0],\n",
       "       [ 58,  21,   8, 203,  43, 204,   0,   0,   0,   0,   0,   0,   0,\n",
       "          0],\n",
       "       [ 16,   5,   1, 205, 206,   5,   1, 207,   0,   0,   0,   0,   0,\n",
       "          0],\n",
       "       [  4,  46,   2, 208, 209,  27,  22,   0,   0,   0,   0,   0,   0,\n",
       "          0],\n",
       "       [ 15, 210, 211,  11,   0,   0,   0,   0,   0,   0,   0,   0,   0,\n",
       "          0],\n",
       "       [212,  17,   2,   4,  61,  44, 213,   9, 214,   0,   0,   0,   0,\n",
       "          0],\n",
       "       [  4,  18,  26,  20, 215,   0,   0,   0,   0,   0,   0,   0,   0,\n",
       "          0]])"
      ]
     },
     "execution_count": 37,
     "metadata": {},
     "output_type": "execute_result"
    }
   ],
   "source": [
    "padded_seq"
   ]
  },
  {
   "cell_type": "code",
   "execution_count": 38,
   "id": "bba930e1-2924-41f1-8ede-5d02e7e94f34",
   "metadata": {},
   "outputs": [],
   "source": [
    "labels = np.array([1 if i == \"Positive\" else 0 for i in sentiment])"
   ]
  },
  {
   "cell_type": "code",
   "execution_count": 39,
   "id": "4c7e9b7d-ba2a-4ed8-8a4c-b37ee67b5373",
   "metadata": {},
   "outputs": [
    {
     "data": {
      "text/plain": [
       "array([1, 0, 1, 0, 1, 0, 1, 0, 1, 0, 1, 0, 1, 0, 1, 0, 1, 0, 1, 0, 1, 0,\n",
       "       1, 0, 1, 0, 1, 0, 1, 0, 1, 0, 1, 0, 1, 0, 1, 0, 1, 0, 1, 0, 1, 0,\n",
       "       1, 0, 1, 0, 1])"
      ]
     },
     "execution_count": 39,
     "metadata": {},
     "output_type": "execute_result"
    }
   ],
   "source": [
    "labels"
   ]
  },
  {
   "cell_type": "code",
   "execution_count": 44,
   "id": "8424b98f-0f9e-46de-b2d8-d0e7cbb4bff2",
   "metadata": {},
   "outputs": [],
   "source": [
    "model = Sequential([\n",
    "    Embedding(vocab_size, 64, input_length=max_length),\n",
    "    SimpleRNN(64),\n",
    "    Dense(1, activation=\"sigmoid\")\n",
    "])"
   ]
  },
  {
   "cell_type": "code",
   "execution_count": 45,
   "id": "cfdc4aa6-26eb-44f5-b606-607baee620d0",
   "metadata": {},
   "outputs": [],
   "source": [
    "model.compile(optimizer=\"adam\", loss=\"binary_crossentropy\", metrics=[\"accuracy\"])"
   ]
  },
  {
   "cell_type": "code",
   "execution_count": 46,
   "id": "b4859b5e-b868-40bb-9c1b-75a82dbf2e2d",
   "metadata": {},
   "outputs": [
    {
     "name": "stdout",
     "output_type": "stream",
     "text": [
      "Epoch 1/100\n",
      "WARNING:tensorflow:From C:\\Users\\Soft\\AppData\\Local\\Programs\\Python\\Python311\\Lib\\site-packages\\keras\\src\\utils\\tf_utils.py:492: The name tf.ragged.RaggedTensorValue is deprecated. Please use tf.compat.v1.ragged.RaggedTensorValue instead.\n",
      "\n",
      "WARNING:tensorflow:From C:\\Users\\Soft\\AppData\\Local\\Programs\\Python\\Python311\\Lib\\site-packages\\keras\\src\\engine\\base_layer_utils.py:384: The name tf.executing_eagerly_outside_functions is deprecated. Please use tf.compat.v1.executing_eagerly_outside_functions instead.\n",
      "\n",
      "2/2 [==============================] - 2s 13ms/step - loss: 0.6950 - accuracy: 0.3878\n",
      "Epoch 2/100\n",
      "2/2 [==============================] - 0s 10ms/step - loss: 0.6364 - accuracy: 0.8367\n",
      "Epoch 3/100\n",
      "2/2 [==============================] - 0s 20ms/step - loss: 0.5813 - accuracy: 0.9388\n",
      "Epoch 4/100\n",
      "2/2 [==============================] - 0s 15ms/step - loss: 0.5145 - accuracy: 0.9388\n",
      "Epoch 5/100\n",
      "2/2 [==============================] - 0s 16ms/step - loss: 0.4313 - accuracy: 0.9592\n",
      "Epoch 6/100\n",
      "2/2 [==============================] - 0s 25ms/step - loss: 0.3330 - accuracy: 0.9592\n",
      "Epoch 7/100\n",
      "2/2 [==============================] - 0s 13ms/step - loss: 0.2347 - accuracy: 0.9592\n",
      "Epoch 8/100\n",
      "2/2 [==============================] - 0s 16ms/step - loss: 0.1499 - accuracy: 1.0000\n",
      "Epoch 9/100\n",
      "2/2 [==============================] - 0s 14ms/step - loss: 0.0910 - accuracy: 1.0000\n",
      "Epoch 10/100\n",
      "2/2 [==============================] - 0s 20ms/step - loss: 0.0485 - accuracy: 1.0000\n",
      "Epoch 11/100\n",
      "2/2 [==============================] - 0s 16ms/step - loss: 0.0283 - accuracy: 1.0000\n",
      "Epoch 12/100\n",
      "2/2 [==============================] - 0s 12ms/step - loss: 0.0172 - accuracy: 1.0000\n",
      "Epoch 13/100\n",
      "2/2 [==============================] - 0s 18ms/step - loss: 0.0112 - accuracy: 1.0000\n",
      "Epoch 14/100\n",
      "2/2 [==============================] - 0s 15ms/step - loss: 0.0081 - accuracy: 1.0000\n",
      "Epoch 15/100\n",
      "2/2 [==============================] - 0s 9ms/step - loss: 0.0060 - accuracy: 1.0000\n",
      "Epoch 16/100\n",
      "2/2 [==============================] - 0s 18ms/step - loss: 0.0047 - accuracy: 1.0000\n",
      "Epoch 17/100\n",
      "2/2 [==============================] - 0s 14ms/step - loss: 0.0038 - accuracy: 1.0000\n",
      "Epoch 18/100\n",
      "2/2 [==============================] - 0s 16ms/step - loss: 0.0032 - accuracy: 1.0000\n",
      "Epoch 19/100\n",
      "2/2 [==============================] - 0s 15ms/step - loss: 0.0028 - accuracy: 1.0000\n",
      "Epoch 20/100\n",
      "2/2 [==============================] - 0s 17ms/step - loss: 0.0025 - accuracy: 1.0000\n",
      "Epoch 21/100\n",
      "2/2 [==============================] - 0s 14ms/step - loss: 0.0022 - accuracy: 1.0000\n",
      "Epoch 22/100\n",
      "2/2 [==============================] - 0s 24ms/step - loss: 0.0020 - accuracy: 1.0000\n",
      "Epoch 23/100\n",
      "2/2 [==============================] - 0s 28ms/step - loss: 0.0019 - accuracy: 1.0000\n",
      "Epoch 24/100\n",
      "2/2 [==============================] - 0s 23ms/step - loss: 0.0018 - accuracy: 1.0000\n",
      "Epoch 25/100\n",
      "2/2 [==============================] - 0s 13ms/step - loss: 0.0017 - accuracy: 1.0000\n",
      "Epoch 26/100\n",
      "2/2 [==============================] - 0s 23ms/step - loss: 0.0016 - accuracy: 1.0000\n",
      "Epoch 27/100\n",
      "2/2 [==============================] - 0s 30ms/step - loss: 0.0015 - accuracy: 1.0000\n",
      "Epoch 28/100\n",
      "2/2 [==============================] - 0s 21ms/step - loss: 0.0014 - accuracy: 1.0000\n",
      "Epoch 29/100\n",
      "2/2 [==============================] - 0s 17ms/step - loss: 0.0014 - accuracy: 1.0000\n",
      "Epoch 30/100\n",
      "2/2 [==============================] - 0s 12ms/step - loss: 0.0013 - accuracy: 1.0000\n",
      "Epoch 31/100\n",
      "2/2 [==============================] - 0s 18ms/step - loss: 0.0013 - accuracy: 1.0000\n",
      "Epoch 32/100\n",
      "2/2 [==============================] - 0s 15ms/step - loss: 0.0012 - accuracy: 1.0000\n",
      "Epoch 33/100\n",
      "2/2 [==============================] - 0s 22ms/step - loss: 0.0012 - accuracy: 1.0000\n",
      "Epoch 34/100\n",
      "2/2 [==============================] - 0s 21ms/step - loss: 0.0012 - accuracy: 1.0000\n",
      "Epoch 35/100\n",
      "2/2 [==============================] - 0s 19ms/step - loss: 0.0011 - accuracy: 1.0000\n",
      "Epoch 36/100\n",
      "2/2 [==============================] - 0s 16ms/step - loss: 0.0011 - accuracy: 1.0000\n",
      "Epoch 37/100\n",
      "2/2 [==============================] - 0s 15ms/step - loss: 0.0011 - accuracy: 1.0000\n",
      "Epoch 38/100\n",
      "2/2 [==============================] - 0s 17ms/step - loss: 0.0010 - accuracy: 1.0000\n",
      "Epoch 39/100\n",
      "2/2 [==============================] - 0s 16ms/step - loss: 0.0010 - accuracy: 1.0000\n",
      "Epoch 40/100\n",
      "2/2 [==============================] - 0s 25ms/step - loss: 0.0010 - accuracy: 1.0000\n",
      "Epoch 41/100\n",
      "2/2 [==============================] - 0s 18ms/step - loss: 9.7927e-04 - accuracy: 1.0000\n",
      "Epoch 42/100\n",
      "2/2 [==============================] - 0s 15ms/step - loss: 9.5857e-04 - accuracy: 1.0000\n",
      "Epoch 43/100\n",
      "2/2 [==============================] - 0s 14ms/step - loss: 9.3877e-04 - accuracy: 1.0000\n",
      "Epoch 44/100\n",
      "2/2 [==============================] - 0s 12ms/step - loss: 9.2007e-04 - accuracy: 1.0000\n",
      "Epoch 45/100\n",
      "2/2 [==============================] - 0s 22ms/step - loss: 9.0189e-04 - accuracy: 1.0000\n",
      "Epoch 46/100\n",
      "2/2 [==============================] - 0s 29ms/step - loss: 8.8458e-04 - accuracy: 1.0000\n",
      "Epoch 47/100\n",
      "2/2 [==============================] - 0s 14ms/step - loss: 8.6800e-04 - accuracy: 1.0000\n",
      "Epoch 48/100\n",
      "2/2 [==============================] - 0s 37ms/step - loss: 8.5181e-04 - accuracy: 1.0000\n",
      "Epoch 49/100\n",
      "2/2 [==============================] - 0s 43ms/step - loss: 8.3681e-04 - accuracy: 1.0000\n",
      "Epoch 50/100\n",
      "2/2 [==============================] - 0s 18ms/step - loss: 8.2163e-04 - accuracy: 1.0000\n",
      "Epoch 51/100\n",
      "2/2 [==============================] - 0s 22ms/step - loss: 8.0722e-04 - accuracy: 1.0000\n",
      "Epoch 52/100\n",
      "2/2 [==============================] - 0s 22ms/step - loss: 7.9296e-04 - accuracy: 1.0000\n",
      "Epoch 53/100\n",
      "2/2 [==============================] - 0s 22ms/step - loss: 7.7966e-04 - accuracy: 1.0000\n",
      "Epoch 54/100\n",
      "2/2 [==============================] - 0s 25ms/step - loss: 7.6633e-04 - accuracy: 1.0000\n",
      "Epoch 55/100\n",
      "2/2 [==============================] - 0s 23ms/step - loss: 7.5369e-04 - accuracy: 1.0000\n",
      "Epoch 56/100\n",
      "2/2 [==============================] - 0s 33ms/step - loss: 7.4115e-04 - accuracy: 1.0000\n",
      "Epoch 57/100\n",
      "2/2 [==============================] - 0s 31ms/step - loss: 7.2919e-04 - accuracy: 1.0000\n",
      "Epoch 58/100\n",
      "2/2 [==============================] - 0s 21ms/step - loss: 7.1735e-04 - accuracy: 1.0000\n",
      "Epoch 59/100\n",
      "2/2 [==============================] - 0s 24ms/step - loss: 7.0594e-04 - accuracy: 1.0000\n",
      "Epoch 60/100\n",
      "2/2 [==============================] - 0s 26ms/step - loss: 6.9476e-04 - accuracy: 1.0000\n",
      "Epoch 61/100\n",
      "2/2 [==============================] - 0s 18ms/step - loss: 6.8397e-04 - accuracy: 1.0000\n",
      "Epoch 62/100\n",
      "2/2 [==============================] - 0s 17ms/step - loss: 6.7335e-04 - accuracy: 1.0000\n",
      "Epoch 63/100\n",
      "2/2 [==============================] - 0s 20ms/step - loss: 6.6309e-04 - accuracy: 1.0000\n",
      "Epoch 64/100\n",
      "2/2 [==============================] - 0s 15ms/step - loss: 6.5306e-04 - accuracy: 1.0000\n",
      "Epoch 65/100\n",
      "2/2 [==============================] - 0s 18ms/step - loss: 6.4327e-04 - accuracy: 1.0000\n",
      "Epoch 66/100\n",
      "2/2 [==============================] - 0s 20ms/step - loss: 6.3369e-04 - accuracy: 1.0000\n",
      "Epoch 67/100\n",
      "2/2 [==============================] - 0s 11ms/step - loss: 6.2432e-04 - accuracy: 1.0000\n",
      "Epoch 68/100\n",
      "2/2 [==============================] - 0s 17ms/step - loss: 6.1529e-04 - accuracy: 1.0000\n",
      "Epoch 69/100\n",
      "2/2 [==============================] - 0s 20ms/step - loss: 6.0632e-04 - accuracy: 1.0000\n",
      "Epoch 70/100\n",
      "2/2 [==============================] - 0s 28ms/step - loss: 5.9759e-04 - accuracy: 1.0000\n",
      "Epoch 71/100\n",
      "2/2 [==============================] - 0s 22ms/step - loss: 5.8920e-04 - accuracy: 1.0000\n",
      "Epoch 72/100\n",
      "2/2 [==============================] - 0s 18ms/step - loss: 5.8084e-04 - accuracy: 1.0000\n",
      "Epoch 73/100\n",
      "2/2 [==============================] - 0s 20ms/step - loss: 5.7269e-04 - accuracy: 1.0000\n",
      "Epoch 74/100\n",
      "2/2 [==============================] - 0s 20ms/step - loss: 5.6475e-04 - accuracy: 1.0000\n",
      "Epoch 75/100\n",
      "2/2 [==============================] - 0s 21ms/step - loss: 5.5698e-04 - accuracy: 1.0000\n",
      "Epoch 76/100\n",
      "2/2 [==============================] - 0s 25ms/step - loss: 5.4942e-04 - accuracy: 1.0000\n",
      "Epoch 77/100\n",
      "2/2 [==============================] - 0s 20ms/step - loss: 5.4195e-04 - accuracy: 1.0000\n",
      "Epoch 78/100\n",
      "2/2 [==============================] - 0s 21ms/step - loss: 5.3470e-04 - accuracy: 1.0000\n",
      "Epoch 79/100\n",
      "2/2 [==============================] - 0s 21ms/step - loss: 5.2752e-04 - accuracy: 1.0000\n",
      "Epoch 80/100\n",
      "2/2 [==============================] - 0s 25ms/step - loss: 5.2055e-04 - accuracy: 1.0000\n",
      "Epoch 81/100\n",
      "2/2 [==============================] - 0s 23ms/step - loss: 5.1370e-04 - accuracy: 1.0000\n",
      "Epoch 82/100\n",
      "2/2 [==============================] - 0s 23ms/step - loss: 5.0705e-04 - accuracy: 1.0000\n",
      "Epoch 83/100\n",
      "2/2 [==============================] - 0s 22ms/step - loss: 5.0047e-04 - accuracy: 1.0000\n",
      "Epoch 84/100\n",
      "2/2 [==============================] - 0s 14ms/step - loss: 4.9403e-04 - accuracy: 1.0000\n",
      "Epoch 85/100\n",
      "2/2 [==============================] - 0s 15ms/step - loss: 4.8778e-04 - accuracy: 1.0000\n",
      "Epoch 86/100\n",
      "2/2 [==============================] - 0s 18ms/step - loss: 4.8160e-04 - accuracy: 1.0000\n",
      "Epoch 87/100\n",
      "2/2 [==============================] - 0s 15ms/step - loss: 4.7554e-04 - accuracy: 1.0000\n",
      "Epoch 88/100\n",
      "2/2 [==============================] - 0s 22ms/step - loss: 4.6963e-04 - accuracy: 1.0000\n",
      "Epoch 89/100\n",
      "2/2 [==============================] - 0s 15ms/step - loss: 4.6380e-04 - accuracy: 1.0000\n",
      "Epoch 90/100\n",
      "2/2 [==============================] - 0s 19ms/step - loss: 4.5813e-04 - accuracy: 1.0000\n",
      "Epoch 91/100\n",
      "2/2 [==============================] - 0s 12ms/step - loss: 4.5254e-04 - accuracy: 1.0000\n",
      "Epoch 92/100\n",
      "2/2 [==============================] - 0s 22ms/step - loss: 4.4708e-04 - accuracy: 1.0000\n",
      "Epoch 93/100\n",
      "2/2 [==============================] - 0s 14ms/step - loss: 4.4168e-04 - accuracy: 1.0000\n",
      "Epoch 94/100\n",
      "2/2 [==============================] - 0s 14ms/step - loss: 4.3642e-04 - accuracy: 1.0000\n",
      "Epoch 95/100\n",
      "2/2 [==============================] - 0s 11ms/step - loss: 4.3131e-04 - accuracy: 1.0000\n",
      "Epoch 96/100\n",
      "2/2 [==============================] - 0s 15ms/step - loss: 4.2616e-04 - accuracy: 1.0000\n",
      "Epoch 97/100\n",
      "2/2 [==============================] - 0s 17ms/step - loss: 4.2123e-04 - accuracy: 1.0000\n",
      "Epoch 98/100\n",
      "2/2 [==============================] - 0s 20ms/step - loss: 4.1637e-04 - accuracy: 1.0000\n",
      "Epoch 99/100\n",
      "2/2 [==============================] - 0s 13ms/step - loss: 4.1155e-04 - accuracy: 1.0000\n",
      "Epoch 100/100\n",
      "2/2 [==============================] - 0s 21ms/step - loss: 4.0686e-04 - accuracy: 1.0000\n"
     ]
    },
    {
     "data": {
      "text/plain": [
       "<keras.src.callbacks.History at 0x213a402ed50>"
      ]
     },
     "execution_count": 46,
     "metadata": {},
     "output_type": "execute_result"
    }
   ],
   "source": [
    "model.fit(padded_seq, labels, epochs=100, verbose=True)"
   ]
  },
  {
   "cell_type": "code",
   "execution_count": 48,
   "id": "10527bd6-0b4e-4c02-ac01-d937c43b194d",
   "metadata": {},
   "outputs": [],
   "source": [
    "import matplotlib.pyplot as plt"
   ]
  },
  {
   "cell_type": "code",
   "execution_count": 49,
   "id": "3c0022bb-0c69-4e1b-ad8f-5d491d2a1fbf",
   "metadata": {
    "scrolled": true
   },
   "outputs": [
    {
     "data": {
      "image/png": "[encoded data removed]",
      "text/plain": [
       "<Figure size 1000x500 with 1 Axes>"
      ]
     },
     "metadata": {},
     "output_type": "display_data"
    }
   ],
   "source": [
    "plt.figure(figsize=(10, 5))\n",
    "plt.plot(model.history.history['loss'], label=\"Training loss\")\n",
    "plt.xlabel(\"Epochs\")\n",
    "plt.ylabel(\"Loss\")\n",
    "plt.title(\"Loss Visualization\")\n",
    "plt.legend()\n",
    "plt.show()"
   ]
  },
  {
   "cell_type": "code",
   "execution_count": 50,
   "id": "5c68ec5e-05aa-4693-abf1-2211835fe971",
   "metadata": {
    "scrolled": true
   },
   "outputs": [
    {
     "data": {
      "image/png": "[encoded data removed]",
      "text/plain": [
       "<Figure size 1000x500 with 1 Axes>"
      ]
     },
     "metadata": {},
     "output_type": "display_data"
    }
   ],
   "source": [
    "plt.figure(figsize=(10, 5))\n",
    "plt.plot(model.history.history['accuracy'], label=\"Training accuracy\")\n",
    "plt.xlabel(\"Epochs\")\n",
    "plt.ylabel(\"Accuracy\")\n",
    "plt.title(\"Accuracy Visualization\")\n",
    "plt.legend()\n",
    "plt.show()"
   ]
  },
  {
   "cell_type": "code",
   "execution_count": 55,
   "id": "1adbbb56-6c74-4346-8287-33cd820b0314",
   "metadata": {},
   "outputs": [],
   "source": [
    "def sentiment_analyzer(sent):\n",
    "    new_seq = tokenize.texts_to_sequences([sent])\n",
    "    new_padded_seq = sequence.pad_sequences(new_seq, maxlen=max_length, padding=\"post\")\n",
    "    pred = model.predict(new_padded_seq)\n",
    "    sentiment = \"Positive\" if pred >= 0.5 else \"Negative\"\n",
    "    return sentiment"
   ]
  },
  {
   "cell_type": "code",
   "execution_count": 56,
   "id": "1dbf12e6-07a1-4a38-a72d-7c003ef41be0",
   "metadata": {},
   "outputs": [],
   "source": [
    "sent1 = \"The cinematography was stunning, the film is masterpeace, a must watch\""
   ]
  },
  {
   "cell_type": "code",
   "execution_count": 57,
   "id": "29680a45-368a-47c4-9b22-5e3ef419ca49",
   "metadata": {},
   "outputs": [
    {
     "name": "stdout",
     "output_type": "stream",
     "text": [
      "1/1 [==============================] - 0s 214ms/step\n"
     ]
    },
    {
     "data": {
      "text/plain": [
       "'Positive'"
      ]
     },
     "execution_count": 57,
     "metadata": {},
     "output_type": "execute_result"
    }
   ],
   "source": [
    "sentiment_analyzer(sent1)"
   ]
  },
  {
   "cell_type": "code",
   "execution_count": 58,
   "id": "c607b563-32fd-49cc-8228-63886c78a78a",
   "metadata": {},
   "outputs": [],
   "source": [
    "sent2 = \"I couldn't stand watching it, a complete waste of time.\""
   ]
  },
  {
   "cell_type": "code",
   "execution_count": 59,
   "id": "0cb225e1-56a1-4b98-8241-3c72c5c430c0",
   "metadata": {},
   "outputs": [
    {
     "name": "stdout",
     "output_type": "stream",
     "text": [
      "1/1 [==============================] - 0s 46ms/step\n"
     ]
    },
    {
     "data": {
      "text/plain": [
       "'Negative'"
      ]
     },
     "execution_count": 59,
     "metadata": {},
     "output_type": "execute_result"
    }
   ],
   "source": [
    "sentiment_analyzer(sent2)"
   ]
  },
  {
   "cell_type": "code",
   "execution_count": null,
   "id": "d1b0161e-4954-4c0e-abcf-44a8ee6f09bc",
   "metadata": {},
   "outputs": [],
   "source": []
  }
 ],
 "metadata": {
  "kernelspec": {
   "display_name": "Python 3 (ipykernel)",
   "language": "python",
   "name": "python3"
  },
  "language_info": {
   "codemirror_mode": {
    "name": "ipython",
    "version": 3
   },
   "file_extension": ".py",
   "mimetype": "text/x-python",
   "name": "python",
   "nbconvert_exporter": "python",
   "pygments_lexer": "ipython3",
   "version": "3.11.9"
  },
  "widgets": {
   "application/vnd.jupyter.widget-state+json": {
    "state": {},
    "version_major": 2,
    "version_minor": 0
   }
  }
 },
 "nbformat": 4,
 "nbformat_minor": 5
}
