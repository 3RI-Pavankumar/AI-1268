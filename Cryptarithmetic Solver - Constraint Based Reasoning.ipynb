{
 "cells": [
  {
   "cell_type": "code",
   "execution_count": 2,
   "id": "170d2c56-4661-4122-9722-207a177c87c3",
   "metadata": {
    "scrolled": true
   },
   "outputs": [
    {
     "name": "stdout",
     "output_type": "stream",
     "text": [
      "Requirement already satisfied: python-constraint in c:\\users\\soft\\appdata\\local\\programs\\python\\python311\\lib\\site-packages (1.4.0)\n",
      "Note: you may need to restart the kernel to use updated packages.\n"
     ]
    },
    {
     "name": "stderr",
     "output_type": "stream",
     "text": [
      "\n",
      "[notice] A new release of pip is available: 24.3.1 -> 25.0.1\n",
      "[notice] To update, run: python.exe -m pip install --upgrade pip\n"
     ]
    }
   ],
   "source": [
    "pip install python-constraint"
   ]
  },
  {
   "cell_type": "code",
   "execution_count": 1,
   "id": "5c8ddefd-d00a-464c-8676-35e085807c11",
   "metadata": {},
   "outputs": [],
   "source": [
    "from constraint import Problem, AllDifferentConstraint"
   ]
  },
  {
   "cell_type": "code",
   "execution_count": 5,
   "id": "094b88e7-7c93-4087-97e4-6e799c589a92",
   "metadata": {},
   "outputs": [],
   "source": [
    "def solve_cryptarithmetic():\n",
    "    problem = Problem()\n",
    "\n",
    "    # BASE + BALL = GAMES\n",
    "    letters = [\"B\", \"A\", \"S\", \"E\", \"L\", \"G\", \"M\"]\n",
    "\n",
    "    problem.addVariables(letters, range(10))\n",
    "\n",
    "    problem.addConstraint(AllDifferentConstraint())\n",
    "\n",
    "    problem.addConstraint(lambda B, G: B!=0 and G!=0, (\"B\", \"G\"))\n",
    "\n",
    "    problem.addConstraint(\n",
    "        lambda B, A, S, E, L, G, M:\n",
    "        (1000*B + 100*A + 10*S + E) + \n",
    "        (1000*B + 100*A + 10*L + L) ==\n",
    "        (10000*G + 1000*A + 100*M + 10*E + S),\n",
    "        (\"B\", \"A\", \"S\", \"E\", \"L\", \"G\", \"M\")\n",
    "    )\n",
    "\n",
    "    solutions = problem.getSolutions()\n",
    "\n",
    "    if solutions:\n",
    "        for i in solutions:\n",
    "            print(f\"Solution : {i}\")\n",
    "    else:\n",
    "        print(\"Solution not found\")"
   ]
  },
  {
   "cell_type": "code",
   "execution_count": 6,
   "id": "17c79ab3-bb14-4a91-ab0e-488821235fdf",
   "metadata": {},
   "outputs": [
    {
     "name": "stdout",
     "output_type": "stream",
     "text": [
      "Solution : {'B': 7, 'G': 1, 'A': 4, 'E': 3, 'L': 5, 'M': 9, 'S': 8}\n"
     ]
    }
   ],
   "source": [
    "solve_cryptarithmetic()"
   ]
  },
  {
   "cell_type": "code",
   "execution_count": null,
   "id": "b5ef8be9-cb54-4d3a-ac7a-c101424dcfce",
   "metadata": {},
   "outputs": [],
   "source": []
  }
 ],
 "metadata": {
  "kernelspec": {
   "display_name": "Python 3 (ipykernel)",
   "language": "python",
   "name": "python3"
  },
  "language_info": {
   "codemirror_mode": {
    "name": "ipython",
    "version": 3
   },
   "file_extension": ".py",
   "mimetype": "text/x-python",
   "name": "python",
   "nbconvert_exporter": "python",
   "pygments_lexer": "ipython3",
   "version": "3.11.9"
  },
  "widgets": {
   "application/vnd.jupyter.widget-state+json": {
    "state": {},
    "version_major": 2,
    "version_minor": 0
   }
  }
 },
 "nbformat": 4,
 "nbformat_minor": 5
}
