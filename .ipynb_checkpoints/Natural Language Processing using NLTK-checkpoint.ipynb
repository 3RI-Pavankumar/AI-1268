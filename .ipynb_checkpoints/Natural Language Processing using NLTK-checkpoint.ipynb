{
 "cells": [
  {
   "cell_type": "code",
   "execution_count": 1,
   "id": "9c6fa053-e857-4770-b461-86bc29215ca9",
   "metadata": {},
   "outputs": [],
   "source": [
    "import numpy as np\n",
    "import pandas as pd\n",
    "\n",
    "import nltk"
   ]
  },
  {
   "cell_type": "markdown",
   "id": "10a3efa1-facd-4242-bc88-5f7abad7a386",
   "metadata": {},
   "source": [
    "## Word Tokenize"
   ]
  },
  {
   "cell_type": "code",
   "execution_count": 3,
   "id": "79fa79c2-f4ba-4e45-b84f-bfa82639d1f8",
   "metadata": {},
   "outputs": [],
   "source": [
    "from nltk import word_tokenize"
   ]
  },
  {
   "cell_type": "code",
   "execution_count": 4,
   "id": "22c73520-038c-40ad-b442-b18ba6e3bd54",
   "metadata": {},
   "outputs": [],
   "source": [
    "text = \"The Natural Language Toolkit, or more commonly NLTK, is a suite of libraries and programs for symbolic and statistical natural language processing (NLP) for English written in the Python programming language. It supports classification, tokenization, stemming, tagging, parsing, and semantic reasoning functionalities.\""
   ]
  },
  {
   "cell_type": "code",
   "execution_count": 5,
   "id": "f018a78d-808f-466a-a664-2e998db86dc9",
   "metadata": {},
   "outputs": [],
   "source": [
    "words = word_tokenize(text)"
   ]
  },
  {
   "cell_type": "code",
   "execution_count": 6,
   "id": "f2fb027c-e726-4b9f-9aba-7113ddac632f",
   "metadata": {
    "scrolled": true
   },
   "outputs": [
    {
     "data": {
      "text/plain": [
       "['The',\n",
       " 'Natural',\n",
       " 'Language',\n",
       " 'Toolkit',\n",
       " ',',\n",
       " 'or',\n",
       " 'more',\n",
       " 'commonly',\n",
       " 'NLTK',\n",
       " ',',\n",
       " 'is',\n",
       " 'a',\n",
       " 'suite',\n",
       " 'of',\n",
       " 'libraries',\n",
       " 'and',\n",
       " 'programs',\n",
       " 'for',\n",
       " 'symbolic',\n",
       " 'and',\n",
       " 'statistical',\n",
       " 'natural',\n",
       " 'language',\n",
       " 'processing',\n",
       " '(',\n",
       " 'NLP',\n",
       " ')',\n",
       " 'for',\n",
       " 'English',\n",
       " 'written',\n",
       " 'in',\n",
       " 'the',\n",
       " 'Python',\n",
       " 'programming',\n",
       " 'language',\n",
       " '.',\n",
       " 'It',\n",
       " 'supports',\n",
       " 'classification',\n",
       " ',',\n",
       " 'tokenization',\n",
       " ',',\n",
       " 'stemming',\n",
       " ',',\n",
       " 'tagging',\n",
       " ',',\n",
       " 'parsing',\n",
       " ',',\n",
       " 'and',\n",
       " 'semantic',\n",
       " 'reasoning',\n",
       " 'functionalities',\n",
       " '.']"
      ]
     },
     "execution_count": 6,
     "metadata": {},
     "output_type": "execute_result"
    }
   ],
   "source": [
    "words"
   ]
  },
  {
   "cell_type": "markdown",
   "id": "9b8c301c-0ac4-457e-bdc1-180cdf4761f3",
   "metadata": {},
   "source": [
    "## Sentence Tokenizer"
   ]
  },
  {
   "cell_type": "code",
   "execution_count": 7,
   "id": "ce76f33b-1162-451d-8e94-d4197de40dba",
   "metadata": {},
   "outputs": [],
   "source": [
    "from nltk.tokenize import sent_tokenize"
   ]
  },
  {
   "cell_type": "code",
   "execution_count": 8,
   "id": "2f46f30b-7eaf-47d1-a879-fe834e1d7196",
   "metadata": {},
   "outputs": [],
   "source": [
    "sentences = sent_tokenize(text)"
   ]
  },
  {
   "cell_type": "code",
   "execution_count": 9,
   "id": "27923d2f-4817-4110-81a1-d3175329c407",
   "metadata": {},
   "outputs": [
    {
     "data": {
      "text/plain": [
       "['The Natural Language Toolkit, or more commonly NLTK, is a suite of libraries and programs for symbolic and statistical natural language processing (NLP) for English written in the Python programming language.',\n",
       " 'It supports classification, tokenization, stemming, tagging, parsing, and semantic reasoning functionalities.']"
      ]
     },
     "execution_count": 9,
     "metadata": {},
     "output_type": "execute_result"
    }
   ],
   "source": [
    "sentences"
   ]
  },
  {
   "cell_type": "markdown",
   "id": "fdef99c2-5152-4a3c-b750-2df5350bf417",
   "metadata": {},
   "source": [
    "## Stopwords Removing"
   ]
  },
  {
   "cell_type": "code",
   "execution_count": 10,
   "id": "3f7eb0af-8754-4e9f-9a03-ad4cb0b47cf8",
   "metadata": {},
   "outputs": [],
   "source": [
    "from nltk.corpus import stopwords"
   ]
  },
  {
   "cell_type": "code",
   "execution_count": 12,
   "id": "e2d861a6-8ee6-4ad0-89d7-1deaf70fc12d",
   "metadata": {},
   "outputs": [
    {
     "data": {
      "text/plain": [
       "53"
      ]
     },
     "execution_count": 12,
     "metadata": {},
     "output_type": "execute_result"
    }
   ],
   "source": [
    "len(words)"
   ]
  },
  {
   "cell_type": "code",
   "execution_count": 15,
   "id": "fd757a59-d449-4a5c-80c8-84b85a9bcd50",
   "metadata": {},
   "outputs": [],
   "source": [
    "stop_words = set(stopwords.words(\"english\"))"
   ]
  },
  {
   "cell_type": "code",
   "execution_count": 16,
   "id": "90b8ba2c-fdca-4c28-bd26-c3a128583735",
   "metadata": {},
   "outputs": [
    {
     "data": {
      "text/plain": [
       "{'a',\n",
       " 'about',\n",
       " 'above',\n",
       " 'after',\n",
       " 'again',\n",
       " 'against',\n",
       " 'ain',\n",
       " 'all',\n",
       " 'am',\n",
       " 'an',\n",
       " 'and',\n",
       " 'any',\n",
       " 'are',\n",
       " 'aren',\n",
       " \"aren't\",\n",
       " 'as',\n",
       " 'at',\n",
       " 'be',\n",
       " 'because',\n",
       " 'been',\n",
       " 'before',\n",
       " 'being',\n",
       " 'below',\n",
       " 'between',\n",
       " 'both',\n",
       " 'but',\n",
       " 'by',\n",
       " 'can',\n",
       " 'couldn',\n",
       " \"couldn't\",\n",
       " 'd',\n",
       " 'did',\n",
       " 'didn',\n",
       " \"didn't\",\n",
       " 'do',\n",
       " 'does',\n",
       " 'doesn',\n",
       " \"doesn't\",\n",
       " 'doing',\n",
       " 'don',\n",
       " \"don't\",\n",
       " 'down',\n",
       " 'during',\n",
       " 'each',\n",
       " 'few',\n",
       " 'for',\n",
       " 'from',\n",
       " 'further',\n",
       " 'had',\n",
       " 'hadn',\n",
       " \"hadn't\",\n",
       " 'has',\n",
       " 'hasn',\n",
       " \"hasn't\",\n",
       " 'have',\n",
       " 'haven',\n",
       " \"haven't\",\n",
       " 'having',\n",
       " 'he',\n",
       " \"he'd\",\n",
       " \"he'll\",\n",
       " \"he's\",\n",
       " 'her',\n",
       " 'here',\n",
       " 'hers',\n",
       " 'herself',\n",
       " 'him',\n",
       " 'himself',\n",
       " 'his',\n",
       " 'how',\n",
       " 'i',\n",
       " \"i'd\",\n",
       " \"i'll\",\n",
       " \"i'm\",\n",
       " \"i've\",\n",
       " 'if',\n",
       " 'in',\n",
       " 'into',\n",
       " 'is',\n",
       " 'isn',\n",
       " \"isn't\",\n",
       " 'it',\n",
       " \"it'd\",\n",
       " \"it'll\",\n",
       " \"it's\",\n",
       " 'its',\n",
       " 'itself',\n",
       " 'just',\n",
       " 'll',\n",
       " 'm',\n",
       " 'ma',\n",
       " 'me',\n",
       " 'mightn',\n",
       " \"mightn't\",\n",
       " 'more',\n",
       " 'most',\n",
       " 'mustn',\n",
       " \"mustn't\",\n",
       " 'my',\n",
       " 'myself',\n",
       " 'needn',\n",
       " \"needn't\",\n",
       " 'no',\n",
       " 'nor',\n",
       " 'not',\n",
       " 'now',\n",
       " 'o',\n",
       " 'of',\n",
       " 'off',\n",
       " 'on',\n",
       " 'once',\n",
       " 'only',\n",
       " 'or',\n",
       " 'other',\n",
       " 'our',\n",
       " 'ours',\n",
       " 'ourselves',\n",
       " 'out',\n",
       " 'over',\n",
       " 'own',\n",
       " 're',\n",
       " 's',\n",
       " 'same',\n",
       " 'shan',\n",
       " \"shan't\",\n",
       " 'she',\n",
       " \"she'd\",\n",
       " \"she'll\",\n",
       " \"she's\",\n",
       " 'should',\n",
       " \"should've\",\n",
       " 'shouldn',\n",
       " \"shouldn't\",\n",
       " 'so',\n",
       " 'some',\n",
       " 'such',\n",
       " 't',\n",
       " 'than',\n",
       " 'that',\n",
       " \"that'll\",\n",
       " 'the',\n",
       " 'their',\n",
       " 'theirs',\n",
       " 'them',\n",
       " 'themselves',\n",
       " 'then',\n",
       " 'there',\n",
       " 'these',\n",
       " 'they',\n",
       " \"they'd\",\n",
       " \"they'll\",\n",
       " \"they're\",\n",
       " \"they've\",\n",
       " 'this',\n",
       " 'those',\n",
       " 'through',\n",
       " 'to',\n",
       " 'too',\n",
       " 'under',\n",
       " 'until',\n",
       " 'up',\n",
       " 've',\n",
       " 'very',\n",
       " 'was',\n",
       " 'wasn',\n",
       " \"wasn't\",\n",
       " 'we',\n",
       " \"we'd\",\n",
       " \"we'll\",\n",
       " \"we're\",\n",
       " \"we've\",\n",
       " 'were',\n",
       " 'weren',\n",
       " \"weren't\",\n",
       " 'what',\n",
       " 'when',\n",
       " 'where',\n",
       " 'which',\n",
       " 'while',\n",
       " 'who',\n",
       " 'whom',\n",
       " 'why',\n",
       " 'will',\n",
       " 'with',\n",
       " 'won',\n",
       " \"won't\",\n",
       " 'wouldn',\n",
       " \"wouldn't\",\n",
       " 'y',\n",
       " 'you',\n",
       " \"you'd\",\n",
       " \"you'll\",\n",
       " \"you're\",\n",
       " \"you've\",\n",
       " 'your',\n",
       " 'yours',\n",
       " 'yourself',\n",
       " 'yourselves'}"
      ]
     },
     "execution_count": 16,
     "metadata": {},
     "output_type": "execute_result"
    }
   ],
   "source": [
    "stop_words"
   ]
  },
  {
   "cell_type": "code",
   "execution_count": 20,
   "id": "6a262121-bf31-40ca-9803-71b684d278ed",
   "metadata": {},
   "outputs": [],
   "source": [
    "raw_words = [i for i in words if i.isalpha()]"
   ]
  },
  {
   "cell_type": "code",
   "execution_count": 21,
   "id": "35fea029-c5e4-4569-9306-98380768c2a8",
   "metadata": {},
   "outputs": [
    {
     "data": {
      "text/plain": [
       "42"
      ]
     },
     "execution_count": 21,
     "metadata": {},
     "output_type": "execute_result"
    }
   ],
   "source": [
    "len(raw_words)"
   ]
  },
  {
   "cell_type": "code",
   "execution_count": 22,
   "id": "5b674d81-968a-4c6d-8d83-6051969d0411",
   "metadata": {
    "scrolled": true
   },
   "outputs": [
    {
     "data": {
      "text/plain": [
       "['The',\n",
       " 'Natural',\n",
       " 'Language',\n",
       " 'Toolkit',\n",
       " 'or',\n",
       " 'more',\n",
       " 'commonly',\n",
       " 'NLTK',\n",
       " 'is',\n",
       " 'a',\n",
       " 'suite',\n",
       " 'of',\n",
       " 'libraries',\n",
       " 'and',\n",
       " 'programs',\n",
       " 'for',\n",
       " 'symbolic',\n",
       " 'and',\n",
       " 'statistical',\n",
       " 'natural',\n",
       " 'language',\n",
       " 'processing',\n",
       " 'NLP',\n",
       " 'for',\n",
       " 'English',\n",
       " 'written',\n",
       " 'in',\n",
       " 'the',\n",
       " 'Python',\n",
       " 'programming',\n",
       " 'language',\n",
       " 'It',\n",
       " 'supports',\n",
       " 'classification',\n",
       " 'tokenization',\n",
       " 'stemming',\n",
       " 'tagging',\n",
       " 'parsing',\n",
       " 'and',\n",
       " 'semantic',\n",
       " 'reasoning',\n",
       " 'functionalities']"
      ]
     },
     "execution_count": 22,
     "metadata": {},
     "output_type": "execute_result"
    }
   ],
   "source": [
    "raw_words"
   ]
  },
  {
   "cell_type": "code",
   "execution_count": 25,
   "id": "0fc3ee26-449c-445e-a7fe-e6f77409ef69",
   "metadata": {},
   "outputs": [],
   "source": [
    "filtered_words = [i for i in raw_words if i.lower() not in stop_words]"
   ]
  },
  {
   "cell_type": "code",
   "execution_count": 26,
   "id": "bb456976-a540-4174-b539-ceaeb6c84111",
   "metadata": {
    "scrolled": true
   },
   "outputs": [
    {
     "data": {
      "text/plain": [
       "['Natural',\n",
       " 'Language',\n",
       " 'Toolkit',\n",
       " 'commonly',\n",
       " 'NLTK',\n",
       " 'suite',\n",
       " 'libraries',\n",
       " 'programs',\n",
       " 'symbolic',\n",
       " 'statistical',\n",
       " 'natural',\n",
       " 'language',\n",
       " 'processing',\n",
       " 'NLP',\n",
       " 'English',\n",
       " 'written',\n",
       " 'Python',\n",
       " 'programming',\n",
       " 'language',\n",
       " 'supports',\n",
       " 'classification',\n",
       " 'tokenization',\n",
       " 'stemming',\n",
       " 'tagging',\n",
       " 'parsing',\n",
       " 'semantic',\n",
       " 'reasoning',\n",
       " 'functionalities']"
      ]
     },
     "execution_count": 26,
     "metadata": {},
     "output_type": "execute_result"
    }
   ],
   "source": [
    "filtered_words"
   ]
  },
  {
   "cell_type": "code",
   "execution_count": 27,
   "id": "ac195503-be3a-4b29-b70d-a36148b0a3c3",
   "metadata": {},
   "outputs": [
    {
     "data": {
      "text/plain": [
       "28"
      ]
     },
     "execution_count": 27,
     "metadata": {},
     "output_type": "execute_result"
    }
   ],
   "source": [
    "len(filtered_words)"
   ]
  },
  {
   "cell_type": "markdown",
   "id": "4ef5595c-d021-426b-930e-44c47adedd69",
   "metadata": {},
   "source": [
    "## Stemming"
   ]
  },
  {
   "cell_type": "code",
   "execution_count": 28,
   "id": "9d1c0127-2a23-4612-b8b1-8759ebfd3ef1",
   "metadata": {},
   "outputs": [],
   "source": [
    "from nltk.stem import PorterStemmer"
   ]
  },
  {
   "cell_type": "code",
   "execution_count": 29,
   "id": "22db84f9-12bf-4ed9-a2d1-2a269fe9b1ab",
   "metadata": {},
   "outputs": [],
   "source": [
    "stemmer = PorterStemmer()"
   ]
  },
  {
   "cell_type": "code",
   "execution_count": 30,
   "id": "6c36a7e9-3ed1-4c75-9459-18a8f2e31448",
   "metadata": {},
   "outputs": [
    {
     "data": {
      "text/plain": [
       "['natur',\n",
       " 'languag',\n",
       " 'toolkit',\n",
       " 'commonli',\n",
       " 'nltk',\n",
       " 'suit',\n",
       " 'librari',\n",
       " 'program',\n",
       " 'symbol',\n",
       " 'statist',\n",
       " 'natur',\n",
       " 'languag',\n",
       " 'process',\n",
       " 'nlp',\n",
       " 'english',\n",
       " 'written',\n",
       " 'python',\n",
       " 'program',\n",
       " 'languag',\n",
       " 'support',\n",
       " 'classif',\n",
       " 'token',\n",
       " 'stem',\n",
       " 'tag',\n",
       " 'pars',\n",
       " 'semant',\n",
       " 'reason',\n",
       " 'function']"
      ]
     },
     "execution_count": 30,
     "metadata": {},
     "output_type": "execute_result"
    }
   ],
   "source": [
    "[stemmer.stem(i.lower()) for i in filtered_words]"
   ]
  },
  {
   "cell_type": "markdown",
   "id": "c2fe6ec4-ff27-458a-a631-234724fb1574",
   "metadata": {},
   "source": [
    "## Lemmatization"
   ]
  },
  {
   "cell_type": "code",
   "execution_count": 31,
   "id": "d3998ebf-90b8-4012-a803-15882c217412",
   "metadata": {},
   "outputs": [],
   "source": [
    "from nltk.stem.wordnet import WordNetLemmatizer"
   ]
  },
  {
   "cell_type": "code",
   "execution_count": 32,
   "id": "aaef8c55-fe1d-4fba-b076-7ee2a4999049",
   "metadata": {},
   "outputs": [],
   "source": [
    "lemma = WordNetLemmatizer()"
   ]
  },
  {
   "cell_type": "code",
   "execution_count": 33,
   "id": "dcbe9782-e8bc-403e-93d7-c2717587ca0e",
   "metadata": {},
   "outputs": [
    {
     "data": {
      "text/plain": [
       "'fly'"
      ]
     },
     "execution_count": 33,
     "metadata": {},
     "output_type": "execute_result"
    }
   ],
   "source": [
    "lemma.lemmatize(\"flying\", \"v\")"
   ]
  },
  {
   "cell_type": "code",
   "execution_count": 34,
   "id": "88dbf7ac-69ae-4226-a082-5f72d5f64fdc",
   "metadata": {},
   "outputs": [
    {
     "data": {
      "text/plain": [
       "'fly'"
      ]
     },
     "execution_count": 34,
     "metadata": {},
     "output_type": "execute_result"
    }
   ],
   "source": [
    "lemma.lemmatize(\"flew\", \"v\")"
   ]
  },
  {
   "cell_type": "code",
   "execution_count": 38,
   "id": "e33a0bd9-c17a-438a-9b93-70aabea5d9e7",
   "metadata": {},
   "outputs": [
    {
     "data": {
      "text/plain": [
       "'functional'"
      ]
     },
     "execution_count": 38,
     "metadata": {},
     "output_type": "execute_result"
    }
   ],
   "source": [
    "lemma.lemmatize(\"functional\", \"r\")"
   ]
  },
  {
   "cell_type": "code",
   "execution_count": 44,
   "id": "3531a66e-9f4f-4ad5-95d3-ce46f95f5115",
   "metadata": {},
   "outputs": [
    {
     "data": {
      "text/plain": [
       "'functionality'"
      ]
     },
     "execution_count": 44,
     "metadata": {},
     "output_type": "execute_result"
    }
   ],
   "source": [
    "lemma.lemmatize(\"functionality\", \"n\")"
   ]
  },
  {
   "cell_type": "code",
   "execution_count": 53,
   "id": "37e26a8c-3f40-46ad-8d34-fb31a5d33d02",
   "metadata": {},
   "outputs": [],
   "source": [
    "def lemmatization(word):\n",
    "    w = word.lower()\n",
    "    for i in [\"n\", \"v\", \"a\", \"r\", \"s\"]:\n",
    "        root_word = lemma.lemmatize(w, i)\n",
    "        if len(root_word) != len(w):\n",
    "            return root_word\n",
    "    else:\n",
    "        return word"
   ]
  },
  {
   "cell_type": "code",
   "execution_count": 54,
   "id": "fe758769-6492-42f0-ac26-008e83400442",
   "metadata": {},
   "outputs": [
    {
     "data": {
      "text/plain": [
       "'work'"
      ]
     },
     "execution_count": 54,
     "metadata": {},
     "output_type": "execute_result"
    }
   ],
   "source": [
    "lemmatization(\"Worked\")"
   ]
  },
  {
   "cell_type": "code",
   "execution_count": 55,
   "id": "63746750-f3ee-4edb-afff-3b3746c14d64",
   "metadata": {},
   "outputs": [
    {
     "data": {
      "text/plain": [
       "'program'"
      ]
     },
     "execution_count": 55,
     "metadata": {},
     "output_type": "execute_result"
    }
   ],
   "source": [
    "lemmatization(\"Programming\")"
   ]
  },
  {
   "cell_type": "code",
   "execution_count": 56,
   "id": "fb3b1a87-2bc0-495a-9842-58b6cfc1f0eb",
   "metadata": {},
   "outputs": [
    {
     "data": {
      "text/plain": [
       "'Natural'"
      ]
     },
     "execution_count": 56,
     "metadata": {},
     "output_type": "execute_result"
    }
   ],
   "source": [
    "lemmatization(\"Natural\")"
   ]
  },
  {
   "cell_type": "code",
   "execution_count": 57,
   "id": "11b63a40-1d99-4d60-89dd-a8d5cf189a92",
   "metadata": {},
   "outputs": [],
   "source": [
    "root_words = [lemmatization(i) for i in filtered_words]"
   ]
  },
  {
   "cell_type": "code",
   "execution_count": 58,
   "id": "566cf722-1b8e-44d6-a9b5-d5d9d85e2aed",
   "metadata": {
    "scrolled": true
   },
   "outputs": [
    {
     "data": {
      "text/plain": [
       "['Natural',\n",
       " 'Language',\n",
       " 'Toolkit',\n",
       " 'commonly',\n",
       " 'NLTK',\n",
       " 'suite',\n",
       " 'library',\n",
       " 'program',\n",
       " 'symbolic',\n",
       " 'statistical',\n",
       " 'natural',\n",
       " 'language',\n",
       " 'process',\n",
       " 'NLP',\n",
       " 'English',\n",
       " 'write',\n",
       " 'Python',\n",
       " 'program',\n",
       " 'language',\n",
       " 'support',\n",
       " 'classification',\n",
       " 'tokenization',\n",
       " 'stem',\n",
       " 'tag',\n",
       " 'parse',\n",
       " 'semantic',\n",
       " 'reason',\n",
       " 'functionality']"
      ]
     },
     "execution_count": 58,
     "metadata": {},
     "output_type": "execute_result"
    }
   ],
   "source": [
    "root_words"
   ]
  },
  {
   "cell_type": "markdown",
   "id": "abf5ab44-aec9-409c-ad8e-e48631b2d0e2",
   "metadata": {},
   "source": [
    "## POS Tagging"
   ]
  },
  {
   "cell_type": "code",
   "execution_count": 59,
   "id": "a1e64033-8966-40d2-8a87-159eb66aa2d4",
   "metadata": {},
   "outputs": [],
   "source": [
    "from nltk import pos_tag"
   ]
  },
  {
   "cell_type": "code",
   "execution_count": 60,
   "id": "a307f6f3-e1a2-47fa-ae43-2708c5775ce1",
   "metadata": {},
   "outputs": [],
   "source": [
    "sentence = \"Albert Einstein was born in Pune, Maharashtra, India in 1983. He completed his Masters in Data Science course from 3RI Technologies.\""
   ]
  },
  {
   "cell_type": "code",
   "execution_count": 61,
   "id": "a27a2d80-bc23-4bb8-8ade-1f820e238cee",
   "metadata": {},
   "outputs": [
    {
     "data": {
      "text/plain": [
       "'Albert Einstein was born in Pune, Maharashtra, India in 1983. He completed his Masters in Data Science course from 3RI Technologies.'"
      ]
     },
     "execution_count": 61,
     "metadata": {},
     "output_type": "execute_result"
    }
   ],
   "source": [
    "sentence"
   ]
  },
  {
   "cell_type": "code",
   "execution_count": 62,
   "id": "33303815-9964-4619-9c23-84ce61b0a6a2",
   "metadata": {},
   "outputs": [],
   "source": [
    "words_2 = word_tokenize(sentence)"
   ]
  },
  {
   "cell_type": "code",
   "execution_count": 63,
   "id": "a5ed8409-4536-4a0b-ad45-eaa027a7a0d3",
   "metadata": {},
   "outputs": [
    {
     "data": {
      "text/plain": [
       "['Albert',\n",
       " 'Einstein',\n",
       " 'was',\n",
       " 'born',\n",
       " 'in',\n",
       " 'Pune',\n",
       " ',',\n",
       " 'Maharashtra',\n",
       " ',',\n",
       " 'India',\n",
       " 'in',\n",
       " '1983',\n",
       " '.',\n",
       " 'He',\n",
       " 'completed',\n",
       " 'his',\n",
       " 'Masters',\n",
       " 'in',\n",
       " 'Data',\n",
       " 'Science',\n",
       " 'course',\n",
       " 'from',\n",
       " '3RI',\n",
       " 'Technologies',\n",
       " '.']"
      ]
     },
     "execution_count": 63,
     "metadata": {},
     "output_type": "execute_result"
    }
   ],
   "source": [
    "words_2"
   ]
  },
  {
   "cell_type": "code",
   "execution_count": 66,
   "id": "1b2c89d9-5fc4-4d14-82d8-b153964079b7",
   "metadata": {},
   "outputs": [],
   "source": [
    "import string\n",
    "\n",
    "punct = string.punctuation"
   ]
  },
  {
   "cell_type": "code",
   "execution_count": 67,
   "id": "d2705a13-4ee9-4616-b6fb-87ea059d82ba",
   "metadata": {},
   "outputs": [],
   "source": [
    "filtered_words_2 = [i for i in words_2 if i not in punct]"
   ]
  },
  {
   "cell_type": "code",
   "execution_count": 68,
   "id": "841a2820-8e5f-457a-bbbb-4aee41241694",
   "metadata": {
    "scrolled": true
   },
   "outputs": [
    {
     "data": {
      "text/plain": [
       "['Albert',\n",
       " 'Einstein',\n",
       " 'was',\n",
       " 'born',\n",
       " 'in',\n",
       " 'Pune',\n",
       " 'Maharashtra',\n",
       " 'India',\n",
       " 'in',\n",
       " '1983',\n",
       " 'He',\n",
       " 'completed',\n",
       " 'his',\n",
       " 'Masters',\n",
       " 'in',\n",
       " 'Data',\n",
       " 'Science',\n",
       " 'course',\n",
       " 'from',\n",
       " '3RI',\n",
       " 'Technologies']"
      ]
     },
     "execution_count": 68,
     "metadata": {},
     "output_type": "execute_result"
    }
   ],
   "source": [
    "filtered_words_2"
   ]
  },
  {
   "cell_type": "code",
   "execution_count": 69,
   "id": "f02b3cc9-838a-4a26-8510-e31955835d2d",
   "metadata": {},
   "outputs": [],
   "source": [
    "sent_pos = pos_tag(filtered_words_2)"
   ]
  },
  {
   "cell_type": "code",
   "execution_count": 70,
   "id": "c02a7bbe-3854-40ad-a08d-b00a9a89d1f2",
   "metadata": {
    "scrolled": true
   },
   "outputs": [
    {
     "data": {
      "text/plain": [
       "[('Albert', 'NNP'),\n",
       " ('Einstein', 'NNP'),\n",
       " ('was', 'VBD'),\n",
       " ('born', 'VBN'),\n",
       " ('in', 'IN'),\n",
       " ('Pune', 'NNP'),\n",
       " ('Maharashtra', 'NNP'),\n",
       " ('India', 'NNP'),\n",
       " ('in', 'IN'),\n",
       " ('1983', 'CD'),\n",
       " ('He', 'PRP'),\n",
       " ('completed', 'VBD'),\n",
       " ('his', 'PRP$'),\n",
       " ('Masters', 'NNS'),\n",
       " ('in', 'IN'),\n",
       " ('Data', 'NNP'),\n",
       " ('Science', 'NNP'),\n",
       " ('course', 'NN'),\n",
       " ('from', 'IN'),\n",
       " ('3RI', 'CD'),\n",
       " ('Technologies', 'NNS')]"
      ]
     },
     "execution_count": 70,
     "metadata": {},
     "output_type": "execute_result"
    }
   ],
   "source": [
    "sent_pos"
   ]
  },
  {
   "cell_type": "markdown",
   "id": "74f7e200-8bc4-41e2-840b-051c925132be",
   "metadata": {},
   "source": [
    "## NER - Named Entity Recognition"
   ]
  },
  {
   "cell_type": "code",
   "execution_count": 72,
   "id": "6760fc45-ec28-467f-b934-f986fc74d6bb",
   "metadata": {},
   "outputs": [],
   "source": [
    "from nltk import ne_chunk"
   ]
  },
  {
   "cell_type": "code",
   "execution_count": 71,
   "id": "21cf6532-9b2b-410b-99bd-2b81183a8386",
   "metadata": {},
   "outputs": [],
   "source": [
    "sentence2 = \"Steve Jobs was founder of Apple company, California.\""
   ]
  },
  {
   "cell_type": "code",
   "execution_count": 75,
   "id": "d90b716a-9250-4c67-8eee-53465749dd59",
   "metadata": {},
   "outputs": [
    {
     "data": {
      "image/svg+xml": [
       "<svg baseProfile=\"full\" height=\"168px\" preserveAspectRatio=\"xMidYMid meet\" style=\"font-family: times, serif; font-weight: normal; font-style: normal; font-size: 16px;\" version=\"1.1\" viewBox=\"0,0,544.0,168.0\" width=\"544px\" xmlns=\"http://www.w3.org/2000/svg\" xmlns:ev=\"http://www.w3.org/2001/xml-events\" xmlns:xlink=\"http://www.w3.org/1999/xlink\"><defs /><svg width=\"100%\" x=\"0\" y=\"0px\"><defs /><text text-anchor=\"middle\" x=\"50%\" y=\"16px\">S</text></svg><svg width=\"11.7647%\" x=\"0%\" y=\"48px\"><defs /><svg width=\"100%\" x=\"0\" y=\"0px\"><defs /><text text-anchor=\"middle\" x=\"50%\" y=\"16px\">PERSON</text></svg><svg width=\"100%\" x=\"0%\" y=\"48px\"><defs /><svg width=\"100%\" x=\"0\" y=\"0px\"><defs /><text text-anchor=\"middle\" x=\"50%\" y=\"16px\">Steve</text></svg><svg width=\"100%\" x=\"0%\" y=\"48px\"><defs /><svg width=\"100%\" x=\"0\" y=\"0px\"><defs /><text text-anchor=\"middle\" x=\"50%\" y=\"16px\">NNP</text></svg></svg><line stroke=\"black\" x1=\"50%\" x2=\"50%\" y1=\"19.2px\" y2=\"48px\" /></svg><line stroke=\"black\" x1=\"50%\" x2=\"50%\" y1=\"19.2px\" y2=\"48px\" /></svg><line stroke=\"black\" x1=\"50%\" x2=\"5.88235%\" y1=\"19.2px\" y2=\"48px\" /><svg width=\"11.7647%\" x=\"11.7647%\" y=\"48px\"><defs /><svg width=\"100%\" x=\"0\" y=\"0px\"><defs /><text text-anchor=\"middle\" x=\"50%\" y=\"16px\">PERSON</text></svg><svg width=\"100%\" x=\"0%\" y=\"48px\"><defs /><svg width=\"100%\" x=\"0\" y=\"0px\"><defs /><text text-anchor=\"middle\" x=\"50%\" y=\"16px\">Jobs</text></svg><svg width=\"100%\" x=\"0%\" y=\"48px\"><defs /><svg width=\"100%\" x=\"0\" y=\"0px\"><defs /><text text-anchor=\"middle\" x=\"50%\" y=\"16px\">NNP</text></svg></svg><line stroke=\"black\" x1=\"50%\" x2=\"50%\" y1=\"19.2px\" y2=\"48px\" /></svg><line stroke=\"black\" x1=\"50%\" x2=\"50%\" y1=\"19.2px\" y2=\"48px\" /></svg><line stroke=\"black\" x1=\"50%\" x2=\"17.6471%\" y1=\"19.2px\" y2=\"48px\" /><svg width=\"7.35294%\" x=\"23.5294%\" y=\"48px\"><defs /><svg width=\"100%\" x=\"0\" y=\"0px\"><defs /><text text-anchor=\"middle\" x=\"50%\" y=\"16px\">was</text></svg><svg width=\"100%\" x=\"0%\" y=\"48px\"><defs /><svg width=\"100%\" x=\"0\" y=\"0px\"><defs /><text text-anchor=\"middle\" x=\"50%\" y=\"16px\">VBD</text></svg></svg><line stroke=\"black\" x1=\"50%\" x2=\"50%\" y1=\"19.2px\" y2=\"48px\" /></svg><line stroke=\"black\" x1=\"50%\" x2=\"27.2059%\" y1=\"19.2px\" y2=\"48px\" /><svg width=\"13.2353%\" x=\"30.8824%\" y=\"48px\"><defs /><svg width=\"100%\" x=\"0\" y=\"0px\"><defs /><text text-anchor=\"middle\" x=\"50%\" y=\"16px\">founder</text></svg><svg width=\"100%\" x=\"0%\" y=\"48px\"><defs /><svg width=\"100%\" x=\"0\" y=\"0px\"><defs /><text text-anchor=\"middle\" x=\"50%\" y=\"16px\">NN</text></svg></svg><line stroke=\"black\" x1=\"50%\" x2=\"50%\" y1=\"19.2px\" y2=\"48px\" /></svg><line stroke=\"black\" x1=\"50%\" x2=\"37.5%\" y1=\"19.2px\" y2=\"48px\" /><svg width=\"5.88235%\" x=\"44.1176%\" y=\"48px\"><defs /><svg width=\"100%\" x=\"0\" y=\"0px\"><defs /><text text-anchor=\"middle\" x=\"50%\" y=\"16px\">of</text></svg><svg width=\"100%\" x=\"0%\" y=\"48px\"><defs /><svg width=\"100%\" x=\"0\" y=\"0px\"><defs /><text text-anchor=\"middle\" x=\"50%\" y=\"16px\">IN</text></svg></svg><line stroke=\"black\" x1=\"50%\" x2=\"50%\" y1=\"19.2px\" y2=\"48px\" /></svg><line stroke=\"black\" x1=\"50%\" x2=\"47.0588%\" y1=\"19.2px\" y2=\"48px\" /><svg width=\"10.2941%\" x=\"50%\" y=\"48px\"><defs /><svg width=\"100%\" x=\"0\" y=\"0px\"><defs /><text text-anchor=\"middle\" x=\"50%\" y=\"16px\">GPE</text></svg><svg width=\"100%\" x=\"0%\" y=\"48px\"><defs /><svg width=\"100%\" x=\"0\" y=\"0px\"><defs /><text text-anchor=\"middle\" x=\"50%\" y=\"16px\">Apple</text></svg><svg width=\"100%\" x=\"0%\" y=\"48px\"><defs /><svg width=\"100%\" x=\"0\" y=\"0px\"><defs /><text text-anchor=\"middle\" x=\"50%\" y=\"16px\">NNP</text></svg></svg><line stroke=\"black\" x1=\"50%\" x2=\"50%\" y1=\"19.2px\" y2=\"48px\" /></svg><line stroke=\"black\" x1=\"50%\" x2=\"50%\" y1=\"19.2px\" y2=\"48px\" /></svg><line stroke=\"black\" x1=\"50%\" x2=\"55.1471%\" y1=\"19.2px\" y2=\"48px\" /><svg width=\"13.2353%\" x=\"60.2941%\" y=\"48px\"><defs /><svg width=\"100%\" x=\"0\" y=\"0px\"><defs /><text text-anchor=\"middle\" x=\"50%\" y=\"16px\">company</text></svg><svg width=\"100%\" x=\"0%\" y=\"48px\"><defs /><svg width=\"100%\" x=\"0\" y=\"0px\"><defs /><text text-anchor=\"middle\" x=\"50%\" y=\"16px\">NN</text></svg></svg><line stroke=\"black\" x1=\"50%\" x2=\"50%\" y1=\"19.2px\" y2=\"48px\" /></svg><line stroke=\"black\" x1=\"50%\" x2=\"66.9118%\" y1=\"19.2px\" y2=\"48px\" /><svg width=\"4.41176%\" x=\"73.5294%\" y=\"48px\"><defs /><svg width=\"100%\" x=\"0\" y=\"0px\"><defs /><text text-anchor=\"middle\" x=\"50%\" y=\"16px\">,</text></svg><svg width=\"100%\" x=\"0%\" y=\"48px\"><defs /><svg width=\"100%\" x=\"0\" y=\"0px\"><defs /><text text-anchor=\"middle\" x=\"50%\" y=\"16px\">,</text></svg></svg><line stroke=\"black\" x1=\"50%\" x2=\"50%\" y1=\"19.2px\" y2=\"48px\" /></svg><line stroke=\"black\" x1=\"50%\" x2=\"75.7353%\" y1=\"19.2px\" y2=\"48px\" /><svg width=\"17.6471%\" x=\"77.9412%\" y=\"48px\"><defs /><svg width=\"100%\" x=\"0\" y=\"0px\"><defs /><text text-anchor=\"middle\" x=\"50%\" y=\"16px\">GPE</text></svg><svg width=\"100%\" x=\"0%\" y=\"48px\"><defs /><svg width=\"100%\" x=\"0\" y=\"0px\"><defs /><text text-anchor=\"middle\" x=\"50%\" y=\"16px\">California</text></svg><svg width=\"100%\" x=\"0%\" y=\"48px\"><defs /><svg width=\"100%\" x=\"0\" y=\"0px\"><defs /><text text-anchor=\"middle\" x=\"50%\" y=\"16px\">NNP</text></svg></svg><line stroke=\"black\" x1=\"50%\" x2=\"50%\" y1=\"19.2px\" y2=\"48px\" /></svg><line stroke=\"black\" x1=\"50%\" x2=\"50%\" y1=\"19.2px\" y2=\"48px\" /></svg><line stroke=\"black\" x1=\"50%\" x2=\"86.7647%\" y1=\"19.2px\" y2=\"48px\" /><svg width=\"4.41176%\" x=\"95.5882%\" y=\"48px\"><defs /><svg width=\"100%\" x=\"0\" y=\"0px\"><defs /><text text-anchor=\"middle\" x=\"50%\" y=\"16px\">.</text></svg><svg width=\"100%\" x=\"0%\" y=\"48px\"><defs /><svg width=\"100%\" x=\"0\" y=\"0px\"><defs /><text text-anchor=\"middle\" x=\"50%\" y=\"16px\">.</text></svg></svg><line stroke=\"black\" x1=\"50%\" x2=\"50%\" y1=\"19.2px\" y2=\"48px\" /></svg><line stroke=\"black\" x1=\"50%\" x2=\"97.7941%\" y1=\"19.2px\" y2=\"48px\" /></svg>"
      ],
      "text/plain": [
       "Tree('S', [Tree('PERSON', [('Steve', 'NNP')]), Tree('PERSON', [('Jobs', 'NNP')]), ('was', 'VBD'), ('founder', 'NN'), ('of', 'IN'), Tree('GPE', [('Apple', 'NNP')]), ('company', 'NN'), (',', ','), Tree('GPE', [('California', 'NNP')]), ('.', '.')])"
      ]
     },
     "execution_count": 75,
     "metadata": {},
     "output_type": "execute_result"
    }
   ],
   "source": [
    "ne_chunk(pos_tag(word_tokenize(sentence2)))"
   ]
  },
  {
   "cell_type": "code",
   "execution_count": 76,
   "id": "6f1d9710-b0a7-4ec8-bf4b-6fd028143e87",
   "metadata": {},
   "outputs": [
    {
     "name": "stdout",
     "output_type": "stream",
     "text": [
      "PERSON Steve\n",
      "PERSON Jobs\n",
      "GPE Apple\n",
      "GPE California\n"
     ]
    }
   ],
   "source": [
    "for chunks in ne_chunk(pos_tag(word_tokenize(sentence2))):\n",
    "    if hasattr(chunks, \"label\"):\n",
    "        print(chunks.label(), \" \".join(i[0] for i in chunks))"
   ]
  },
  {
   "cell_type": "markdown",
   "id": "fcab62b0-05f0-488c-8263-bb5ce2ec444a",
   "metadata": {},
   "source": [
    "## Synonums"
   ]
  },
  {
   "cell_type": "code",
   "execution_count": 77,
   "id": "543d23e8-cadf-4b59-a8ca-9acfc6e829b8",
   "metadata": {},
   "outputs": [],
   "source": [
    "from nltk.corpus import wordnet"
   ]
  },
  {
   "cell_type": "code",
   "execution_count": 78,
   "id": "11dcb970-3bae-4b93-84a1-be1b3f4e394d",
   "metadata": {},
   "outputs": [],
   "source": [
    "syns = wordnet.synsets(\"bank\")"
   ]
  },
  {
   "cell_type": "code",
   "execution_count": 79,
   "id": "56e1e753-5d52-4002-9254-4c67fb753bfe",
   "metadata": {
    "scrolled": true
   },
   "outputs": [
    {
     "data": {
      "text/plain": [
       "[Synset('bank.n.01'),\n",
       " Synset('depository_financial_institution.n.01'),\n",
       " Synset('bank.n.03'),\n",
       " Synset('bank.n.04'),\n",
       " Synset('bank.n.05'),\n",
       " Synset('bank.n.06'),\n",
       " Synset('bank.n.07'),\n",
       " Synset('savings_bank.n.02'),\n",
       " Synset('bank.n.09'),\n",
       " Synset('bank.n.10'),\n",
       " Synset('bank.v.01'),\n",
       " Synset('bank.v.02'),\n",
       " Synset('bank.v.03'),\n",
       " Synset('bank.v.04'),\n",
       " Synset('bank.v.05'),\n",
       " Synset('deposit.v.02'),\n",
       " Synset('bank.v.07'),\n",
       " Synset('trust.v.01')]"
      ]
     },
     "execution_count": 79,
     "metadata": {},
     "output_type": "execute_result"
    }
   ],
   "source": [
    "syns"
   ]
  },
  {
   "cell_type": "code",
   "execution_count": 80,
   "id": "11d4df52-9e2f-4e8c-a2a9-a744012eddd9",
   "metadata": {},
   "outputs": [
    {
     "data": {
      "text/plain": [
       "'bank.n.01'"
      ]
     },
     "execution_count": 80,
     "metadata": {},
     "output_type": "execute_result"
    }
   ],
   "source": [
    "syns[0].name()"
   ]
  },
  {
   "cell_type": "code",
   "execution_count": 84,
   "id": "411b49bc-6ce1-4c1c-a6f3-cd120d561805",
   "metadata": {},
   "outputs": [
    {
     "data": {
      "text/plain": [
       "'bank'"
      ]
     },
     "execution_count": 84,
     "metadata": {},
     "output_type": "execute_result"
    }
   ],
   "source": [
    "syns[0].lemmas()[0].name()"
   ]
  },
  {
   "cell_type": "code",
   "execution_count": 85,
   "id": "02256707-4c61-4e54-8f18-7fb188fbf599",
   "metadata": {},
   "outputs": [
    {
     "data": {
      "text/plain": [
       "'sloping land (especially the slope beside a body of water)'"
      ]
     },
     "execution_count": 85,
     "metadata": {},
     "output_type": "execute_result"
    }
   ],
   "source": [
    "syns[0].definition()"
   ]
  },
  {
   "cell_type": "code",
   "execution_count": 86,
   "id": "7f7fc5da-48b7-458b-887e-2e2f57c8ac01",
   "metadata": {},
   "outputs": [
    {
     "data": {
      "text/plain": [
       "['they pulled the canoe up on the bank',\n",
       " 'he sat on the bank of the river and watched the currents']"
      ]
     },
     "execution_count": 86,
     "metadata": {},
     "output_type": "execute_result"
    }
   ],
   "source": [
    "syns[0].examples()"
   ]
  },
  {
   "cell_type": "code",
   "execution_count": 89,
   "id": "68daf3ec-819f-480c-b7a1-43e3d1f32ef0",
   "metadata": {},
   "outputs": [
    {
     "name": "stdout",
     "output_type": "stream",
     "text": [
      "bank\n",
      "sloping land (especially the slope beside a body of water)\n",
      "['they pulled the canoe up on the bank', 'he sat on the bank of the river and watched the currents']\n",
      "================================================================================\n",
      "depository_financial_institution\n",
      "a financial institution that accepts deposits and channels the money into lending activities\n",
      "['he cashed a check at the bank', 'that bank holds the mortgage on my home']\n",
      "================================================================================\n",
      "bank\n",
      "a long ridge or pile\n",
      "['a huge bank of earth']\n",
      "================================================================================\n",
      "bank\n",
      "an arrangement of similar objects in a row or in tiers\n",
      "['he operated a bank of switches']\n",
      "================================================================================\n",
      "bank\n",
      "a supply or stock held in reserve for future use (especially in emergencies)\n",
      "[]\n",
      "================================================================================\n",
      "bank\n",
      "the funds held by a gambling house or the dealer in some gambling games\n",
      "['he tried to break the bank at Monte Carlo']\n",
      "================================================================================\n",
      "bank\n",
      "a slope in the turn of a road or track; the outside is higher than the inside in order to reduce the effects of centrifugal force\n",
      "[]\n",
      "================================================================================\n",
      "savings_bank\n",
      "a container (usually with a slot in the top) for keeping money at home\n",
      "['the coin bank was empty']\n",
      "================================================================================\n",
      "bank\n",
      "a building in which the business of banking transacted\n",
      "['the bank is on the corner of Nassau and Witherspoon']\n",
      "================================================================================\n",
      "bank\n",
      "a flight maneuver; aircraft tips laterally about its longitudinal axis (especially in turning)\n",
      "['the plane went into a steep bank']\n",
      "================================================================================\n",
      "bank\n",
      "tip laterally\n",
      "['the pilot had to bank the aircraft']\n",
      "================================================================================\n",
      "bank\n",
      "enclose with a bank\n",
      "['bank roads']\n",
      "================================================================================\n",
      "bank\n",
      "do business with a bank or keep an account at a bank\n",
      "['Where do you bank in this town?']\n",
      "================================================================================\n",
      "bank\n",
      "act as the banker in a game or in gambling\n",
      "[]\n",
      "================================================================================\n",
      "bank\n",
      "be in the banking business\n",
      "[]\n",
      "================================================================================\n",
      "deposit\n",
      "put into a bank account\n",
      "['She deposits her paycheck every month']\n",
      "================================================================================\n",
      "bank\n",
      "cover with ashes so to control the rate of burning\n",
      "['bank a fire']\n",
      "================================================================================\n",
      "trust\n",
      "have confidence or faith in\n",
      "['We can trust in God', 'Rely on your friends', 'bank on your good education', \"I swear by my grandmother's recipes\"]\n",
      "================================================================================\n"
     ]
    }
   ],
   "source": [
    "for i in range(len(syns)):\n",
    "    print(syns[i].lemmas()[0].name())\n",
    "    print(syns[i].definition())\n",
    "    print(syns[i].examples())\n",
    "    print(\"==\" * 40)"
   ]
  },
  {
   "cell_type": "code",
   "execution_count": 91,
   "id": "e45627a0-490c-40df-9c76-3d9c5105d5bd",
   "metadata": {},
   "outputs": [
    {
     "name": "stdout",
     "output_type": "stream",
     "text": [
      "plan\n",
      "a series of steps to be carried out or goals to be accomplished\n",
      "['they drew up a six-step plan', 'they discussed plans for a new bond issue']\n",
      "================================================================================\n",
      "program\n",
      "a system of projects or services intended to meet a public need\n",
      "['he proposed an elaborate program of public works', 'working mothers rely on the day care program']\n",
      "================================================================================\n",
      "broadcast\n",
      "a radio or television show\n",
      "['did you see his program last night?']\n",
      "================================================================================\n",
      "platform\n",
      "a document stating the aims and principles of a political party\n",
      "['their candidate simply ignored the party platform', 'they won the election even though they offered no positive program']\n",
      "================================================================================\n",
      "program\n",
      "an announcement of the events that will occur as part of a theatrical or sporting event\n",
      "[\"you can't tell the players without a program\"]\n",
      "================================================================================\n",
      "course_of_study\n",
      "an integrated course of academic studies\n",
      "['he was admitted to a new program at the university']\n",
      "================================================================================\n",
      "program\n",
      "(computer science) a sequence of instructions that a computer can interpret and execute\n",
      "['the program required several hundred lines of code']\n",
      "================================================================================\n",
      "program\n",
      "a performance (or series of performances) at a public presentation\n",
      "['the program lasted more than two hours']\n",
      "================================================================================\n",
      "program\n",
      "arrange a program of or for\n",
      "['program the 80th birthday party']\n",
      "================================================================================\n",
      "program\n",
      "write a computer program\n",
      "[]\n",
      "================================================================================\n"
     ]
    }
   ],
   "source": [
    "syns2 = wordnet.synsets(\"program\")\n",
    "for i in range(len(syns2)):\n",
    "    print(syns2[i].lemmas()[0].name())\n",
    "    print(syns2[i].definition())\n",
    "    print(syns2[i].examples())\n",
    "    print(\"==\" * 40)"
   ]
  },
  {
   "cell_type": "code",
   "execution_count": null,
   "id": "4ca3222e-3477-4ca9-bd8b-99612b219cda",
   "metadata": {},
   "outputs": [],
   "source": []
  }
 ],
 "metadata": {
  "kernelspec": {
   "display_name": "Python 3 (ipykernel)",
   "language": "python",
   "name": "python3"
  },
  "language_info": {
   "codemirror_mode": {
    "name": "ipython",
    "version": 3
   },
   "file_extension": ".py",
   "mimetype": "text/x-python",
   "name": "python",
   "nbconvert_exporter": "python",
   "pygments_lexer": "ipython3",
   "version": "3.11.9"
  },
  "widgets": {
   "application/vnd.jupyter.widget-state+json": {
    "state": {},
    "version_major": 2,
    "version_minor": 0
   }
  }
 },
 "nbformat": 4,
 "nbformat_minor": 5
}
